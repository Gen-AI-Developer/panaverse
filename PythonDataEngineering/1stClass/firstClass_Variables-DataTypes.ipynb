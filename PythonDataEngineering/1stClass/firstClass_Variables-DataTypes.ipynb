{
 "cells": [
  {
   "cell_type": "code",
   "execution_count": 1,
   "metadata": {},
   "outputs": [
    {
     "name": "stdout",
     "output_type": "stream",
     "text": [
      "HelloWorld\n"
     ]
    }
   ],
   "source": [
    "print('HelloWorld')"
   ]
  },
  {
   "cell_type": "code",
   "execution_count": 3,
   "metadata": {},
   "outputs": [
    {
     "name": "stdout",
     "output_type": "stream",
     "text": [
      "Hello in the World of Data Engineering\n"
     ]
    }
   ],
   "source": [
    "greeting = \"Hello in the World of Data Engineering\"\n",
    "print(greeting)"
   ]
  },
  {
   "cell_type": "code",
   "execution_count": 5,
   "metadata": {},
   "outputs": [
    {
     "name": "stdout",
     "output_type": "stream",
     "text": [
      "Your String Values\n",
      "1234567890\n",
      "2.2\n",
      "True\n"
     ]
    }
   ],
   "source": [
    "string_variable = \"Your String Values\"\n",
    "int_variable = 1234567890\n",
    "float_variable = 2.2\n",
    "bool_variable = True\n",
    "\n",
    "print(string_variable)\n",
    "\n",
    "print(int_variable)\n",
    "\n",
    "print(float_variable)\n",
    "\n",
    "print(bool_variable)"
   ]
  },
  {
   "cell_type": "code",
   "execution_count": null,
   "metadata": {},
   "outputs": [],
   "source": []
  }
 ],
 "metadata": {
  "kernelspec": {
   "display_name": "Python 3",
   "language": "python",
   "name": "python3"
  },
  "language_info": {
   "codemirror_mode": {
    "name": "ipython",
    "version": 3
   },
   "file_extension": ".py",
   "mimetype": "text/x-python",
   "name": "python",
   "nbconvert_exporter": "python",
   "pygments_lexer": "ipython3",
   "version": "3.12.2"
  }
 },
 "nbformat": 4,
 "nbformat_minor": 2
}
