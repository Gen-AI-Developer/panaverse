{
 "cells": [
  {
   "cell_type": "code",
   "execution_count": 5,
   "metadata": {},
   "outputs": [
    {
     "name": "stdout",
     "output_type": "stream",
     "text": [
      "Data : [3]\n",
      "Data : [3, 34]\n",
      "Data : [3, 34, 34]\n",
      "Data : [3, 34, 34, 34]\n",
      "Data : [3, 34, 34, 34, 34]\n"
     ]
    },
    {
     "data": {
      "text/plain": [
       "'Average : 27.8'"
      ]
     },
     "execution_count": 5,
     "metadata": {},
     "output_type": "execute_result"
    }
   ],
   "source": [
    "from typing import Any\n",
    "\n",
    "\n",
    "class CumData():\n",
    "    def __init__(self, data: int):\n",
    "        self.data = []\n",
    "    def __call__(self, new_data: int):\n",
    "        self.data.append(new_data)\n",
    "        print(f'Data : {self.data}')\n",
    "        return f'Average : {sum(self.data) / len(self.data)}'\n",
    "    \n",
    "st : CumData = CumData(3)\n",
    "st(3)\n",
    "st(34)\n",
    "st(34)\n",
    "st(34)\n",
    "st(34)\n"
   ]
  },
  {
   "cell_type": "markdown",
   "metadata": {},
   "source": [
    "# Access Modifiers in python"
   ]
  },
  {
   "cell_type": "code",
   "execution_count": null,
   "metadata": {},
   "outputs": [],
   "source": [
    "class AccessModifiers():\n",
    "    def __init__(self) -> None:\n",
    "        # self.name ----------> Public\n",
    "        self.name : str = \"Name of Object\"\n",
    "        # self._ID ----------> Protected\n",
    "        self._ID : int = 3830113871171\n",
    "        # self.__Salary ----------> Private\n",
    "        self.__Salary : int = 55000\n",
    "        "
   ]
  },
  {
   "cell_type": "code",
   "execution_count": null,
   "metadata": {},
   "outputs": [],
   "source": [
    "   "
   ]
  }
 ],
 "metadata": {
  "kernelspec": {
   "display_name": "Python 3",
   "language": "python",
   "name": "python3"
  },
  "language_info": {
   "codemirror_mode": {
    "name": "ipython",
    "version": 3
   },
   "file_extension": ".py",
   "mimetype": "text/x-python",
   "name": "python",
   "nbconvert_exporter": "python",
   "pygments_lexer": "ipython3",
   "version": "3.12.1"
  }
 },
 "nbformat": 4,
 "nbformat_minor": 2
}
