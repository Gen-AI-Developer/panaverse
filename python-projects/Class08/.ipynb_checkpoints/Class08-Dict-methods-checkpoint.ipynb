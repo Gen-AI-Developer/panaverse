{
 "cells": [
  {
   "cell_type": "code",
   "execution_count": 11,
   "id": "06df0caa",
   "metadata": {},
   "outputs": [
    {
     "data": {
      "text/plain": [
       "{'name': 'SafdarAliShah', 'fname': 'GhafoorShah', 'education': 'BCCS'}"
      ]
     },
     "metadata": {},
     "output_type": "display_data"
    },
    {
     "name": "stdout",
     "output_type": "stream",
     "text": [
      "['clear', 'copy', 'fromkeys', 'get', 'items', 'keys', 'pop', 'popitem', 'setdefault', 'update', 'values']\n"
     ]
    }
   ],
   "source": [
    "from typing import Dict, Union, Optional\n",
    "key = Union[int,str]\n",
    "value = Union[int,str,list,dict,tuple,set]\n",
    "# list\n",
    "data : Dict[key,value] = {'name':'SafdarAliShah',\n",
    "    'fname':'GhafoorShah',\n",
    "    'education':'BCCS',}\n",
    "\n",
    "display(data)\n",
    "methods : list[str] = [m for m in dir(Dict) if(\"__\" and \"_\") not in m]\n",
    "print(methods)"
   ]
  },
  {
   "cell_type": "markdown",
   "id": "328fab44",
   "metadata": {},
   "source": [
    "# clear Method"
   ]
  },
  {
   "cell_type": "code",
   "execution_count": 3,
   "id": "1ac2ded6",
   "metadata": {},
   "outputs": [
    {
     "data": {
      "text/plain": [
       "{}"
      ]
     },
     "metadata": {},
     "output_type": "display_data"
    }
   ],
   "source": [
    "data.clear()\n",
    "display(data)\n",
    "data : Dict[key,value] = {'name':'SafdarAliShah',\n",
    "    'fname':'GhafoorShah',\n",
    "    'education':'BCCS',}"
   ]
  },
  {
   "cell_type": "markdown",
   "id": "7ba36ef0",
   "metadata": {},
   "source": [
    "# copy Method"
   ]
  },
  {
   "cell_type": "code",
   "execution_count": 4,
   "id": "57a081d4",
   "metadata": {},
   "outputs": [
    {
     "data": {
      "text/plain": [
       "{'name': 'SafdarAliShah', 'fname': 'GhafoorShah', 'education': 'BCCS'}"
      ]
     },
     "execution_count": 4,
     "metadata": {},
     "output_type": "execute_result"
    }
   ],
   "source": [
    "data2 = data\n",
    "data2"
   ]
  },
  {
   "cell_type": "markdown",
   "id": "4f48098e",
   "metadata": {},
   "source": [
    "# fromkeys Method"
   ]
  },
  {
   "cell_type": "code",
   "execution_count": null,
   "id": "c32e4285",
   "metadata": {},
   "outputs": [],
   "source": []
  },
  {
   "cell_type": "markdown",
   "id": "590e8002",
   "metadata": {},
   "source": [
    "# get Method"
   ]
  },
  {
   "cell_type": "code",
   "execution_count": 15,
   "id": "b1f4fdde",
   "metadata": {},
   "outputs": [
    {
     "name": "stdout",
     "output_type": "stream",
     "text": [
      "NA\n"
     ]
    }
   ],
   "source": [
    "print(data.get('Pakistan','NA'))"
   ]
  },
  {
   "cell_type": "markdown",
   "id": "4449154d",
   "metadata": {},
   "source": [
    "# items Method"
   ]
  },
  {
   "cell_type": "code",
   "execution_count": null,
   "id": "32bb8e06",
   "metadata": {},
   "outputs": [],
   "source": []
  },
  {
   "cell_type": "markdown",
   "id": "6d1539f1",
   "metadata": {},
   "source": [
    "# keys Method"
   ]
  },
  {
   "cell_type": "code",
   "execution_count": null,
   "id": "8ff80cf0",
   "metadata": {},
   "outputs": [],
   "source": []
  },
  {
   "cell_type": "markdown",
   "id": "24da0e41",
   "metadata": {},
   "source": [
    "# pop Method"
   ]
  },
  {
   "cell_type": "code",
   "execution_count": 10,
   "id": "c9759760",
   "metadata": {},
   "outputs": [
    {
     "data": {
      "text/plain": [
       "{'name': 'SafdarAliShah', 'education': 'BCCS'}"
      ]
     },
     "metadata": {},
     "output_type": "display_data"
    }
   ],
   "source": [
    "# s = data.pop('fname')\n",
    "display(data)"
   ]
  },
  {
   "cell_type": "markdown",
   "id": "69fbbaa3",
   "metadata": {},
   "source": [
    "# popitem Method"
   ]
  },
  {
   "cell_type": "code",
   "execution_count": 14,
   "id": "200811a8",
   "metadata": {},
   "outputs": [
    {
     "data": {
      "text/plain": [
       "{'name': 'SafdarAliShah', 'fname': 'GhafoorShah'}"
      ]
     },
     "metadata": {},
     "output_type": "display_data"
    }
   ],
   "source": [
    "s = data.popitem()\n",
    "display(data)"
   ]
  },
  {
   "cell_type": "markdown",
   "id": "9eb58fee",
   "metadata": {},
   "source": [
    "# setdefault Method"
   ]
  },
  {
   "cell_type": "code",
   "execution_count": 16,
   "id": "dd331823",
   "metadata": {},
   "outputs": [
    {
     "data": {
      "text/plain": [
       "{'name': 'SafdarAliShah', 'fname': 'GhafoorShah', 'Country': 'Pakistan'}"
      ]
     },
     "metadata": {},
     "output_type": "display_data"
    }
   ],
   "source": [
    "s = data.setdefault('Country','Pakistan')\n",
    "display(data)"
   ]
  },
  {
   "cell_type": "markdown",
   "id": "e370d2af",
   "metadata": {},
   "source": [
    "# update Method"
   ]
  },
  {
   "cell_type": "code",
   "execution_count": 19,
   "id": "7452430d",
   "metadata": {},
   "outputs": [
    {
     "data": {
      "text/plain": [
       "{'name': 'Syed Safdar Ali Shah Bukhari',\n",
       " 'fname': 'GhafoorShah',\n",
       " 'education': 'BCCS',\n",
       " 'height': '5.4',\n",
       " 'weight': '76KG'}"
      ]
     },
     "metadata": {},
     "output_type": "display_data"
    }
   ],
   "source": [
    "data : Dict[key,value] = {'name':'SafdarAliShah',\n",
    "    'fname':'GhafoorShah',\n",
    "    'education':'BCCS',}\n",
    "\n",
    "data2 : Dict[key,value] = {\n",
    "        'name': 'Syed Safdar Ali Shah Bukhari',\n",
    "        'height':'5.4',\n",
    "        'weight':'76KG'\n",
    "}\n",
    "\n",
    "data.update(data2)\n",
    "display(data)"
   ]
  },
  {
   "cell_type": "markdown",
   "id": "f1700f99",
   "metadata": {},
   "source": [
    "# ValuesMethod"
   ]
  },
  {
   "cell_type": "code",
   "execution_count": null,
   "id": "64e156ee",
   "metadata": {},
   "outputs": [],
   "source": []
  },
  {
   "cell_type": "markdown",
   "id": "824022e5-8cf9-40ba-b563-6263ce71d97a",
   "metadata": {},
   "source": [
    "# Pandas"
   ]
  },
  {
   "cell_type": "code",
   "execution_count": 26,
   "id": "be8c5915-95ef-40d3-88e5-b35e9c581101",
   "metadata": {},
   "outputs": [
    {
     "data": {
      "text/html": [
       "<div>\n",
       "<style scoped>\n",
       "    .dataframe tbody tr th:only-of-type {\n",
       "        vertical-align: middle;\n",
       "    }\n",
       "\n",
       "    .dataframe tbody tr th {\n",
       "        vertical-align: top;\n",
       "    }\n",
       "\n",
       "    .dataframe thead th {\n",
       "        text-align: right;\n",
       "    }\n",
       "</style>\n",
       "<table border=\"1\" class=\"dataframe\">\n",
       "  <thead>\n",
       "    <tr style=\"text-align: right;\">\n",
       "      <th></th>\n",
       "      <th>RollNumbers</th>\n",
       "      <th>Names</th>\n",
       "      <th>Education</th>\n",
       "    </tr>\n",
       "  </thead>\n",
       "  <tbody>\n",
       "    <tr>\n",
       "      <th>0</th>\n",
       "      <td>1</td>\n",
       "      <td>Safdar</td>\n",
       "      <td>Master</td>\n",
       "    </tr>\n",
       "    <tr>\n",
       "      <th>1</th>\n",
       "      <td>2</td>\n",
       "      <td>Ali</td>\n",
       "      <td>CyberSec</td>\n",
       "    </tr>\n",
       "    <tr>\n",
       "      <th>2</th>\n",
       "      <td>3</td>\n",
       "      <td>Shah</td>\n",
       "      <td>MA</td>\n",
       "    </tr>\n",
       "    <tr>\n",
       "      <th>3</th>\n",
       "      <td>4</td>\n",
       "      <td>Peer Syed</td>\n",
       "      <td>BA</td>\n",
       "    </tr>\n",
       "  </tbody>\n",
       "</table>\n",
       "</div>"
      ],
      "text/plain": [
       "   RollNumbers      Names Education\n",
       "0            1     Safdar    Master\n",
       "1            2        Ali  CyberSec\n",
       "2            3       Shah        MA\n",
       "3            4  Peer Syed        BA"
      ]
     },
     "execution_count": 26,
     "metadata": {},
     "output_type": "execute_result"
    }
   ],
   "source": [
    "import pandas as pd\n",
    "from typing import Any\n",
    "student_data : Dict[str,list[Any]] = {\n",
    "    'RollNumbers':[1,2,3,4],\n",
    "    'Names':[\"Safdar\",\"Ali\",\"Shah\",\"Peer Syed\"],\n",
    "    'Education':[\"Master\",\"CyberSec\",\"MA\",\"BA\"]\n",
    "}\n",
    "df : pd.DataFrame = pd.DataFrame(student_data)\n",
    "df"
   ]
  },
  {
   "cell_type": "code",
   "execution_count": null,
   "id": "fdd73a1d-e555-4a6f-b883-482c6c9632b1",
   "metadata": {},
   "outputs": [],
   "source": []
  }
 ],
 "metadata": {
  "kernelspec": {
   "display_name": "Python 3 (ipykernel)",
   "language": "python",
   "name": "python3"
  },
  "language_info": {
   "codemirror_mode": {
    "name": "ipython",
    "version": 3
   },
   "file_extension": ".py",
   "mimetype": "text/x-python",
   "name": "python",
   "nbconvert_exporter": "python",
   "pygments_lexer": "ipython3",
   "version": "3.10.12"
  }
 },
 "nbformat": 4,
 "nbformat_minor": 5
}
