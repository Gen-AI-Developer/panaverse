{
 "cells": [
  {
   "cell_type": "markdown",
   "id": "4024fa08",
   "metadata": {},
   "source": [
    "# if - else - elif\n",
    "    if logic:\n",
    "        True_Block\n",
    "    else:\n",
    "        False_Block\n",
    "        \n",
    "        \n",
    "# Comperhensive if-else\n",
    "    True_Block if logic else False_Block\n",
    "    \n",
    "    \n",
    "# Combinations of IF\n",
    "    * if-else\n",
    "    *if-elif-else\n",
    "    *"
   ]
  },
  {
   "cell_type": "code",
   "execution_count": 1,
   "id": "a7406967",
   "metadata": {},
   "outputs": [
    {
     "name": "stdout",
     "output_type": "stream",
     "text": [
      "Pakistan Zindabad\n"
     ]
    }
   ],
   "source": [
    "if True:\n",
    "    print(\"Pakistan Zindabad\")\n",
    "else:\n",
    "    print(\"Hello WOrld\")"
   ]
  },
  {
   "cell_type": "code",
   "execution_count": 2,
   "id": "e8809417",
   "metadata": {},
   "outputs": [
    {
     "name": "stdout",
     "output_type": "stream",
     "text": [
      "Pakistan Zindabad\n"
     ]
    }
   ],
   "source": [
    "print(\"Pakistan Zindabad\") if True else print(\"Hello WOrld\")\n",
    "    "
   ]
  },
  {
   "cell_type": "markdown",
   "id": "9ff7ada2",
   "metadata": {},
   "source": [
    "# Comperssion Operators\n",
    "    * ==\n",
    "    * >=\n",
    "    * >=\n",
    "    * !=\n",
    "    ** logic Gates\n",
    "    * and\n",
    "    * Or\n",
    "    * NOT"
   ]
  },
  {
   "cell_type": "code",
   "execution_count": 3,
   "id": "4b89e303",
   "metadata": {},
   "outputs": [
    {
     "name": "stdout",
     "output_type": "stream",
     "text": [
      "First True\n"
     ]
    }
   ],
   "source": [
    "if True:\n",
    "    print(\"First True\")\n",
    "elif False:\n",
    "    print(\"Elif\")\n",
    "elif False:\n",
    "    print(\"elif 2\")\n",
    "else: \n",
    "    print('Else')"
   ]
  },
  {
   "cell_type": "markdown",
   "id": "fb1ead3a",
   "metadata": {},
   "source": [
    "Grading Rules"
   ]
  },
  {
   "cell_type": "code",
   "execution_count": 4,
   "id": "bd2e425b",
   "metadata": {},
   "outputs": [
    {
     "name": "stdout",
     "output_type": "stream",
     "text": [
      "Dear Student Your Percentage is 88.0 now Your Calculated Grade is: A+\n"
     ]
    }
   ],
   "source": [
    "from typing import Union\n",
    "percentage : Union[int,float] = 88.0\n",
    "grade : Union[str,None] = None\n",
    "if percentage>= 80:\n",
    "    grade = \"A+\"\n",
    "elif per>=70:\n",
    "    grade = \"A\"\n",
    "elif per>=60:\n",
    "    grade = \"B\"\n",
    "elif per>=50:\n",
    "    grade = \"C\"\n",
    "elif per>=40:\n",
    "    grade = \"D\"\n",
    "elif per>=30:\n",
    "    grade = \"E\"\n",
    "else:\n",
    "    grade = \"Fail\"\n",
    "print(f\"Dear Student Your Percentage is {percentage} now Your Calculated Grade is: {grade}\")"
   ]
  },
  {
   "cell_type": "code",
   "execution_count": 5,
   "id": "b8aa930b",
   "metadata": {},
   "outputs": [
    {
     "name": "stdout",
     "output_type": "stream",
     "text": [
      "Dear Student Your Percentage is 2 now Your Calculated Grade is: Fail\n"
     ]
    }
   ],
   "source": [
    "from typing import Union\n",
    "per : Union[int,float] = int(input(\"Please Enter Your Percentage:\\t\"))\n",
    "grade : Union[str,None] = None\n",
    "if per>= 80:\n",
    "    grade = \"A+\"\n",
    "elif per>=70:\n",
    "    grade = \"A\"\n",
    "elif per>=60:\n",
    "    grade = \"B\"\n",
    "elif per>=50:\n",
    "    grade = \"C\"\n",
    "elif per>=40:\n",
    "    grade = \"D\"\n",
    "elif per>=30:\n",
    "    grade = \"E\"\n",
    "else:\n",
    "    grade = \"Fail\"\n",
    "print(f\"Dear Student Your Percentage is {per} now Your Calculated Grade is: {grade}\")"
   ]
  },
  {
   "cell_type": "markdown",
   "id": "9cc205c3",
   "metadata": {},
   "source": [
    "# Optional and Type Operator int|float"
   ]
  },
  {
   "cell_type": "code",
   "execution_count": 6,
   "id": "9fa55ad1",
   "metadata": {},
   "outputs": [
    {
     "name": "stdout",
     "output_type": "stream",
     "text": [
      "Dear Student Your Percentage is 2 now Your Calculated Grade is: Fail\n"
     ]
    }
   ],
   "source": [
    "from typing import Union, Optional\n",
    "# per : Union[int,float] = int(input(\"Please Enter Your Percentage:\\t\"))\n",
    "per : int|float = int(input(\"Please Enter Your Percentage:\\t\"))\n",
    "# grade : Union[str,None] = None\n",
    "grade : Optional[str] = None\n",
    "if per>= 80:\n",
    "    grade = \"A+\"\n",
    "elif per>=70:\n",
    "    grade = \"A\"\n",
    "elif per>=60:\n",
    "    grade = \"B\"\n",
    "elif per>=50:\n",
    "    grade = \"C\"\n",
    "elif per>=40:\n",
    "    grade = \"D\"\n",
    "elif per>=30:\n",
    "    grade = \"E\"\n",
    "else:\n",
    "    grade = \"Fail\"\n",
    "print(f\"Dear Student Your Percentage is {per} now Your Calculated Grade is: {grade}\")"
   ]
  },
  {
   "cell_type": "code",
   "execution_count": 7,
   "id": "11d97d99",
   "metadata": {},
   "outputs": [
    {
     "name": "stdout",
     "output_type": "stream",
     "text": [
      "Dear Student Your Percentage is 2.0 now Your Calculated Grade is: Fail\n"
     ]
    }
   ],
   "source": [
    "from typing import Union, Optional\n",
    "# per : Union[int,float] = int(input(\"Please Enter Your Percentage:\\t\"))\n",
    "per : int|float = float(input(\"Please Enter Your Percentage:\\t\"))\n",
    "# grade : Union[str,None] = None\n",
    "grade : Optional[str] = None\n",
    "if per>= 80:\n",
    "    grade = \"A+\"\n",
    "elif per>=70:\n",
    "    grade = \"A\"\n",
    "elif per>=60:\n",
    "    grade = \"B\"\n",
    "elif per>=50:\n",
    "    grade = \"C\"\n",
    "elif per>=40:\n",
    "    grade = \"D\"\n",
    "elif per>=30:\n",
    "    grade = \"E\"\n",
    "else:\n",
    "    grade = \"Fail\"\n",
    "print(f\"Dear Student Your Percentage is {per} now Your Calculated Grade is: {grade}\")"
   ]
  },
  {
   "cell_type": "code",
   "execution_count": 12,
   "id": "2e860433",
   "metadata": {},
   "outputs": [],
   "source": [
    "pertype = Union[int,float]\n",
    "percentage : list[pertype] = [11.2,11,23,66,77,88,75,89,98,88,99,91,12,43,66,54,56,76,67,87,78]\n",
    "grades : list[str] = []"
   ]
  },
  {
   "cell_type": "code",
   "execution_count": 22,
   "id": "b4e45b0e",
   "metadata": {},
   "outputs": [
    {
     "name": "stdout",
     "output_type": "stream",
     "text": [
      "[11.2, 11, 23, 66, 77, 88, 75, 89, 98, 88, 99, 91, 12, 43, 66, 54, 56, 76, 67, 87, 78]\n",
      "['E', 'E', 'E', 'B', 'A', 'A+', 'A', 'A+', 'A+', 'A+', 'A+', 'A+', 'E', 'D', 'B', 'C', 'C', 'A', 'B', 'A+', 'A', 'E', 'E', 'E', 'B', 'A', 'A+', 'A', 'A+', 'A+', 'A+', 'A+', 'A+', 'E', 'D', 'B', 'C', 'C', 'A', 'B', 'A+', 'A', 'E', 'E', 'E', 'B', 'A', 'A+', 'A', 'A+', 'A+', 'A+', 'A+', 'A+', 'E', 'D', 'B', 'C', 'C', 'A', 'B', 'A+', 'A', 'E', 'E', 'E', 'B', 'A', 'A+', 'A', 'A+', 'A+', 'A+', 'A+', 'A+', 'E', 'D', 'B', 'C', 'C', 'A', 'B', 'A+', 'A', 'E', 'E', 'E', 'B', 'A', 'A+', 'A', 'A+', 'A+', 'A+', 'A+', 'A+', 'E', 'D', 'B', 'C', 'C', 'A', 'B', 'A+', 'A']\n"
     ]
    }
   ],
   "source": [
    "for per in percentage:\n",
    "    grade : str = \"\"\n",
    "    if per>0 and per<=30:\n",
    "        grade = \"E\"\n",
    "    elif per>30 and per<50:\n",
    "        grade = \"D\"\n",
    "    elif per>50 and per<60:\n",
    "        grade = \"C\"\n",
    "    elif per>60 and per<70:\n",
    "        grade = \"B\"\n",
    "    elif per>70 and per<80:\n",
    "        grade = \"A\"\n",
    "    elif per>80 and per<100:\n",
    "        grade = \"A+\"\n",
    "    else:\n",
    "        grade = None\n",
    "    grades.append(grade)\n",
    "print(percentage)\n",
    "print(grades)\n",
    "roll_nunbers : list[int] = range(int(len(percentage)))"
   ]
  },
  {
   "cell_type": "code",
   "execution_count": 23,
   "id": "cc382c29",
   "metadata": {},
   "outputs": [
    {
     "data": {
      "text/plain": [
       "<zip at 0x7f2e5379f500>"
      ]
     },
     "execution_count": 23,
     "metadata": {},
     "output_type": "execute_result"
    }
   ],
   "source": [
    "zip(roll_nunbers,percentage,grades)"
   ]
  },
  {
   "cell_type": "code",
   "execution_count": 24,
   "id": "5a2aa232",
   "metadata": {},
   "outputs": [],
   "source": [
    "database = list(zip(roll_nunbers,percentage,grades))"
   ]
  },
  {
   "cell_type": "code",
   "execution_count": 27,
   "id": "9c2b0853",
   "metadata": {},
   "outputs": [
    {
     "data": {
      "text/plain": [
       "[(10, 99, 'A+'),\n",
       " (8, 98, 'A+'),\n",
       " (11, 91, 'A+'),\n",
       " (7, 89, 'A+'),\n",
       " (5, 88, 'A+'),\n",
       " (9, 88, 'A+'),\n",
       " (19, 87, 'A+'),\n",
       " (20, 78, 'A'),\n",
       " (4, 77, 'A'),\n",
       " (17, 76, 'A'),\n",
       " (6, 75, 'A'),\n",
       " (18, 67, 'B'),\n",
       " (3, 66, 'B'),\n",
       " (14, 66, 'B'),\n",
       " (16, 56, 'C'),\n",
       " (15, 54, 'C'),\n",
       " (13, 43, 'D'),\n",
       " (2, 23, 'E'),\n",
       " (12, 12, 'E'),\n",
       " (0, 11.2, 'E'),\n",
       " (1, 11, 'E')]"
      ]
     },
     "execution_count": 27,
     "metadata": {},
     "output_type": "execute_result"
    }
   ],
   "source": [
    "sorted(database,key=lambda x:x[1],reverse=True)"
   ]
  },
  {
   "cell_type": "markdown",
   "id": "cb45ecc8",
   "metadata": {},
   "source": [
    "# In | Not In"
   ]
  },
  {
   "cell_type": "code",
   "execution_count": 1,
   "id": "1116bee6",
   "metadata": {},
   "outputs": [
    {
     "data": {
      "text/plain": [
       "True"
      ]
     },
     "execution_count": 1,
     "metadata": {},
     "output_type": "execute_result"
    }
   ],
   "source": [
    "cars : list[str] = ['bmw','suzuki','cultus','honda','aston martin']\n",
    "'aston martin' in cars"
   ]
  },
  {
   "cell_type": "code",
   "execution_count": 2,
   "id": "92e9e17e",
   "metadata": {},
   "outputs": [
    {
     "name": "stdout",
     "output_type": "stream",
     "text": [
      "Inbound\n"
     ]
    }
   ],
   "source": [
    "if 'bmw' in cars:\n",
    "    print('Inbound')"
   ]
  },
  {
   "cell_type": "code",
   "execution_count": 3,
   "id": "c39268a6",
   "metadata": {},
   "outputs": [],
   "source": [
    "if 'ev' in cars:\n",
    "    print('EV in Cars')"
   ]
  },
  {
   "cell_type": "code",
   "execution_count": 4,
   "id": "db9509a9",
   "metadata": {},
   "outputs": [
    {
     "name": "stdout",
     "output_type": "stream",
     "text": [
      "User perimeted\n"
     ]
    }
   ],
   "source": [
    "if 'ev' not in cars:\n",
    "    print('User perimeted')"
   ]
  },
  {
   "cell_type": "code",
   "execution_count": 9,
   "id": "9a8a8ef0",
   "metadata": {},
   "outputs": [
    {
     "name": "stdout",
     "output_type": "stream",
     "text": [
      "Enter Your Username: SafdarAliShah\n",
      "Enter Your Password: Safdar9999\n",
      "An OTP has been Sended on your Registered Email pro*************@live.com\n",
      "Enter Your OTP: 34322\n",
      " Your Entered OTP is invalid or Expired, request for new OTP\n"
     ]
    }
   ],
   "source": [
    "username : str = input(\"Enter Your Username: \")\n",
    "password : str = input(\"Enter Your Password: \")\n",
    "\n",
    "if username == \"SafdarAliShah\" and password == \"Safdar9999\":\n",
    "    print(\"An OTP has been Sended on your Registered Email pro*************@live.com\")\n",
    "    otp : str = input(\"Enter Your OTP: \")\n",
    "    if otp == \"12345\":\n",
    "        print(f'Welcome, Mr. {username} to your Account')\n",
    "    else:    \n",
    "        print(\" Your Entered OTP is invalid or Expired, request for new OTP\")\n",
    "else:\n",
    "    print(\" Your Entered Username OR Password in Wrong, please\")"
   ]
  },
  {
   "cell_type": "code",
   "execution_count": null,
   "id": "7ce062f9",
   "metadata": {},
   "outputs": [],
   "source": []
  }
 ],
 "metadata": {
  "kernelspec": {
   "display_name": "Python 3 (ipykernel)",
   "language": "python",
   "name": "python3"
  },
  "language_info": {
   "codemirror_mode": {
    "name": "ipython",
    "version": 3
   },
   "file_extension": ".py",
   "mimetype": "text/x-python",
   "name": "python",
   "nbconvert_exporter": "python",
   "pygments_lexer": "ipython3",
   "version": "3.11.5"
  }
 },
 "nbformat": 4,
 "nbformat_minor": 5
}
