{
 "cells": [
  {
   "cell_type": "markdown",
   "id": "4024fa08",
   "metadata": {},
   "source": [
    "# if - else - elif\n",
    "    if logic:\n",
    "        True_Block\n",
    "    else:\n",
    "        False_Block\n",
    "        \n",
    "        \n",
    "# Comperhensive if-else\n",
    "    True_Block if logic else False_Block\n",
    "    \n",
    "    \n",
    "# Combinations of IF\n",
    "    * if-else\n",
    "    *if-elif-else\n",
    "    *"
   ]
  },
  {
   "cell_type": "code",
   "execution_count": 1,
   "id": "a7406967",
   "metadata": {},
   "outputs": [
    {
     "name": "stdout",
     "output_type": "stream",
     "text": [
      "Pakistan Zindabad\n"
     ]
    }
   ],
   "source": [
    "if True:\n",
    "    print(\"Pakistan Zindabad\")\n",
    "else:\n",
    "    print(\"Hello WOrld\")"
   ]
  },
  {
   "cell_type": "code",
   "execution_count": 2,
   "id": "e8809417",
   "metadata": {},
   "outputs": [
    {
     "name": "stdout",
     "output_type": "stream",
     "text": [
      "Pakistan Zindabad\n"
     ]
    }
   ],
   "source": [
    "print(\"Pakistan Zindabad\") if True else print(\"Hello WOrld\")\n",
    "    "
   ]
  },
  {
   "cell_type": "markdown",
   "id": "9ff7ada2",
   "metadata": {},
   "source": [
    "# Comperssion Operators\n",
    "    * ==\n",
    "    * >=\n",
    "    * >=\n",
    "    * !=\n",
    "    ** logic Gates\n",
    "    * and\n",
    "    * Or\n",
    "    * NOT"
   ]
  },
  {
   "cell_type": "code",
   "execution_count": 3,
   "id": "4b89e303",
   "metadata": {},
   "outputs": [
    {
     "name": "stdout",
     "output_type": "stream",
     "text": [
      "First True\n"
     ]
    }
   ],
   "source": [
    "if True:\n",
    "    print(\"First True\")\n",
    "elif False:\n",
    "    print(\"Elif\")\n",
    "elif False:\n",
    "    print(\"elif 2\")\n",
    "else: \n",
    "    print('Else')"
   ]
  },
  {
   "cell_type": "markdown",
   "id": "fb1ead3a",
   "metadata": {},
   "source": [
    "Grading Rules"
   ]
  },
  {
   "cell_type": "code",
   "execution_count": 11,
   "id": "bd2e425b",
   "metadata": {},
   "outputs": [
    {
     "name": "stdout",
     "output_type": "stream",
     "text": [
      "Dear Student Your Percentage is 88.0 now Your Calculated Grade is: A+\n"
     ]
    }
   ],
   "source": [
    "from typing import Union\n",
    "percentage : Union[int,float] = 88.0\n",
    "grade : Union[str,None] = None\n",
    "if percentage>= 80:\n",
    "    grade = \"A+\"\n",
    "elif per>=70:\n",
    "    grade = \"A\"\n",
    "elif per>=60:\n",
    "    grade = \"B\"\n",
    "elif per>=50:\n",
    "    grade = \"C\"\n",
    "elif per>=40:\n",
    "    grade = \"D\"\n",
    "elif per>=30:\n",
    "    grade = \"E\"\n",
    "else:\n",
    "    grade = \"Fail\"\n",
    "print(f\"Dear Student Your Percentage is {percentage} now Your Calculated Grade is: {grade}\")"
   ]
  },
  {
   "cell_type": "code",
   "execution_count": 18,
   "id": "b8aa930b",
   "metadata": {},
   "outputs": [
    {
     "name": "stdout",
     "output_type": "stream",
     "text": [
      "Please Enter Your Percentage:\t99\n",
      "Dear Student Your Percentage is 99 now Your Calculated Grade is: A+\n"
     ]
    }
   ],
   "source": [
    "from typing import Union\n",
    "per : Union[int,float] = int(input(\"Please Enter Your Percentage:\\t\"))\n",
    "grade : Union[str,None] = None\n",
    "if per>= 80:\n",
    "    grade = \"A+\"\n",
    "elif per>=70:\n",
    "    grade = \"A\"\n",
    "elif per>=60:\n",
    "    grade = \"B\"\n",
    "elif per>=50:\n",
    "    grade = \"C\"\n",
    "elif per>=40:\n",
    "    grade = \"D\"\n",
    "elif per>=30:\n",
    "    grade = \"E\"\n",
    "else:\n",
    "    grade = \"Fail\"\n",
    "print(f\"Dear Student Your Percentage is {per} now Your Calculated Grade is: {grade}\")"
   ]
  },
  {
   "cell_type": "markdown",
   "id": "9cc205c3",
   "metadata": {},
   "source": [
    "# Optional and Type Operator int|float"
   ]
  },
  {
   "cell_type": "code",
   "execution_count": 21,
   "id": "9fa55ad1",
   "metadata": {},
   "outputs": [
    {
     "name": "stdout",
     "output_type": "stream",
     "text": [
      "Please Enter Your Percentage:\t44\n",
      "Dear Student Your Percentage is 44 now Your Calculated Grade is: D\n"
     ]
    }
   ],
   "source": [
    "from typing import Union, Optional\n",
    "# per : Union[int,float] = int(input(\"Please Enter Your Percentage:\\t\"))\n",
    "per : int|float = int(input(\"Please Enter Your Percentage:\\t\"))\n",
    "# grade : Union[str,None] = None\n",
    "grade : Optional[str] = None\n",
    "if per>= 80:\n",
    "    grade = \"A+\"\n",
    "elif per>=70:\n",
    "    grade = \"A\"\n",
    "elif per>=60:\n",
    "    grade = \"B\"\n",
    "elif per>=50:\n",
    "    grade = \"C\"\n",
    "elif per>=40:\n",
    "    grade = \"D\"\n",
    "elif per>=30:\n",
    "    grade = \"E\"\n",
    "else:\n",
    "    grade = \"Fail\"\n",
    "print(f\"Dear Student Your Percentage is {per} now Your Calculated Grade is: {grade}\")"
   ]
  },
  {
   "cell_type": "code",
   "execution_count": 22,
   "id": "11d97d99",
   "metadata": {},
   "outputs": [
    {
     "name": "stdout",
     "output_type": "stream",
     "text": [
      "Please Enter Your Percentage:\t33.3\n",
      "Dear Student Your Percentage is 33.3 now Your Calculated Grade is: E\n"
     ]
    }
   ],
   "source": [
    "from typing import Union, Optional\n",
    "# per : Union[int,float] = int(input(\"Please Enter Your Percentage:\\t\"))\n",
    "per : int|float = float(input(\"Please Enter Your Percentage:\\t\"))\n",
    "# grade : Union[str,None] = None\n",
    "grade : Optional[str] = None\n",
    "if per>= 80:\n",
    "    grade = \"A+\"\n",
    "elif per>=70:\n",
    "    grade = \"A\"\n",
    "elif per>=60:\n",
    "    grade = \"B\"\n",
    "elif per>=50:\n",
    "    grade = \"C\"\n",
    "elif per>=40:\n",
    "    grade = \"D\"\n",
    "elif per>=30:\n",
    "    grade = \"E\"\n",
    "else:\n",
    "    grade = \"Fail\"\n",
    "print(f\"Dear Student Your Percentage is {per} now Your Calculated Grade is: {grade}\")"
   ]
  },
  {
   "cell_type": "code",
   "execution_count": 24,
   "id": "2e860433",
   "metadata": {},
   "outputs": [],
   "source": [
    "pertype = Union[int,float]\n",
    "percentage : list[pertype] = [11.2,11,23,66,77,88,75,89,98,88,99,91,12,43,66,54,56,76,67,87,78]"
   ]
  },
  {
   "cell_type": "code",
   "execution_count": null,
   "id": "b4e45b0e",
   "metadata": {},
   "outputs": [],
   "source": []
  }
 ],
 "metadata": {
  "kernelspec": {
   "display_name": "Python 3 (ipykernel)",
   "language": "python",
   "name": "python3"
  },
  "language_info": {
   "codemirror_mode": {
    "name": "ipython",
    "version": 3
   },
   "file_extension": ".py",
   "mimetype": "text/x-python",
   "name": "python",
   "nbconvert_exporter": "python",
   "pygments_lexer": "ipython3",
   "version": "3.11.5"
  }
 },
 "nbformat": 4,
 "nbformat_minor": 5
}
