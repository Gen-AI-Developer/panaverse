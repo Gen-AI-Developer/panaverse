{
 "cells": [
  {
   "cell_type": "markdown",
   "id": "4024fa08",
   "metadata": {},
   "source": [
    "# if - else - elif\n",
    "    if logic:\n",
    "        True_Block\n",
    "    else:\n",
    "        False_Block\n",
    "        \n",
    "        \n",
    "# Comperhensive if-else\n",
    "    True_Block if logic else False_Block\n",
    "    \n",
    "    \n",
    "# Combinations of IF\n",
    "    * if-else\n",
    "    *if-elif-else\n",
    "    *"
   ]
  },
  {
   "cell_type": "code",
   "execution_count": 1,
   "id": "4d129889",
   "metadata": {},
   "outputs": [
    {
     "name": "stdout",
     "output_type": "stream",
     "text": [
      "Pakistan Zindabad\n"
     ]
    }
   ],
   "source": [
    "if True:\n",
    "    print(\"Pakistan Zindabad\")\n",
    "else:\n",
    "    print(\"Hello WOrld\")"
   ]
  },
  {
   "cell_type": "code",
   "execution_count": 2,
   "id": "6ce5caac",
   "metadata": {},
   "outputs": [
    {
     "name": "stdout",
     "output_type": "stream",
     "text": [
      "Pakistan Zindabad\n"
     ]
    }
   ],
   "source": [
    "print(\"Pakistan Zindabad\") if True else print(\"Hello WOrld\")\n",
    "    "
   ]
  },
  {
   "cell_type": "markdown",
   "id": "cf79de3f",
   "metadata": {},
   "source": [
    "# Comperssion Operators\n",
    "    * ==\n",
    "    * >=\n",
    "    * >=\n",
    "    * !=\n",
    "    ** logic Gates\n",
    "    * and\n",
    "    * Or\n",
    "    * NOT"
   ]
  },
  {
   "cell_type": "code",
   "execution_count": 3,
   "id": "80672a2d",
   "metadata": {},
   "outputs": [
    {
     "name": "stdout",
     "output_type": "stream",
     "text": [
      "First True\n"
     ]
    }
   ],
   "source": [
    "if True:\n",
    "    print(\"First True\")\n",
    "elif False:\n",
    "    print(\"Elif\")\n",
    "elif False:\n",
    "    print(\"elif 2\")\n",
    "else: \n",
    "    print('Else')"
   ]
  },
  {
   "cell_type": "markdown",
   "id": "a68627e1",
   "metadata": {},
   "source": [
    "Grading Rules"
   ]
  },
  {
   "cell_type": "code",
   "execution_count": 11,
   "id": "679dc8b2",
   "metadata": {},
   "outputs": [
    {
     "name": "stdout",
     "output_type": "stream",
     "text": [
      "Dear Student Your Percentage is 88.0 now Your Calculated Grade is: A+\n"
     ]
    }
   ],
   "source": [
    "from typing import Union\n",
    "percentage : Union[int,float] = 88.0\n",
    "grade : Union[str,None] = None\n",
    "if percentage>= 80:\n",
    "    grade = \"A+\"\n",
    "elif per>=70:\n",
    "    grade = \"A\"\n",
    "elif per>=60:\n",
    "    grade = \"B\"\n",
    "elif per>=50:\n",
    "    grade = \"C\"\n",
    "elif per>=40:\n",
    "    grade = \"D\"\n",
    "elif per>=30:\n",
    "    grade = \"E\"\n",
    "else:\n",
    "    grade = \"Fail\"\n",
    "print(f\"Dear Student Your Percentage is {percentage} now Your Calculated Grade is: {grade}\")"
   ]
  },
  {
   "cell_type": "code",
   "execution_count": 18,
   "id": "a9def8a4",
   "metadata": {},
   "outputs": [
    {
     "name": "stdout",
     "output_type": "stream",
     "text": [
      "Please Enter Your Percentage:\t99\n",
      "Dear Student Your Percentage is 99 now Your Calculated Grade is: A+\n"
     ]
    }
   ],
   "source": [
    "from typing import Union\n",
    "per : Union[int,float] = int(input(\"Please Enter Your Percentage:\\t\"))\n",
    "grade : Union[str,None] = None\n",
    "if per>= 80:\n",
    "    grade = \"A+\"\n",
    "elif per>=70:\n",
    "    grade = \"A\"\n",
    "elif per>=60:\n",
    "    grade = \"B\"\n",
    "elif per>=50:\n",
    "    grade = \"C\"\n",
    "elif per>=40:\n",
    "    grade = \"D\"\n",
    "elif per>=30:\n",
    "    grade = \"E\"\n",
    "else:\n",
    "    grade = \"Fail\"\n",
    "print(f\"Dear Student Your Percentage is {per} now Your Calculated Grade is: {grade}\")"
   ]
  },
  {
   "cell_type": "markdown",
   "id": "bc95dc82",
   "metadata": {},
   "source": [
    "# Optional and Type Operator int|float"
   ]
  },
  {
   "cell_type": "code",
   "execution_count": 21,
   "id": "74f71529",
   "metadata": {},
   "outputs": [
    {
     "name": "stdout",
     "output_type": "stream",
     "text": [
      "Please Enter Your Percentage:\t44\n",
      "Dear Student Your Percentage is 44 now Your Calculated Grade is: D\n"
     ]
    }
   ],
   "source": [
    "from typing import Union, Optional\n",
    "# per : Union[int,float] = int(input(\"Please Enter Your Percentage:\\t\"))\n",
    "per : int|float = int(input(\"Please Enter Your Percentage:\\t\"))\n",
    "# grade : Union[str,None] = None\n",
    "grade : Optional[str] = None\n",
    "if per>= 80:\n",
    "    grade = \"A+\"\n",
    "elif per>=70:\n",
    "    grade = \"A\"\n",
    "elif per>=60:\n",
    "    grade = \"B\"\n",
    "elif per>=50:\n",
    "    grade = \"C\"\n",
    "elif per>=40:\n",
    "    grade = \"D\"\n",
    "elif per>=30:\n",
    "    grade = \"E\"\n",
    "else:\n",
    "    grade = \"Fail\"\n",
    "print(f\"Dear Student Your Percentage is {per} now Your Calculated Grade is: {grade}\")"
   ]
  },
  {
   "cell_type": "code",
   "execution_count": null,
   "id": "39ca7a18",
   "metadata": {},
   "outputs": [],
   "source": []
  }
 ],
 "metadata": {
  "kernelspec": {
   "display_name": "Python 3 (ipykernel)",
   "language": "python",
   "name": "python3"
  },
  "language_info": {
   "codemirror_mode": {
    "name": "ipython",
    "version": 3
   },
   "file_extension": ".py",
   "mimetype": "text/x-python",
   "name": "python",
   "nbconvert_exporter": "python",
   "pygments_lexer": "ipython3",
   "version": "3.11.5"
  }
 },
 "nbformat": 4,
 "nbformat_minor": 5
}
