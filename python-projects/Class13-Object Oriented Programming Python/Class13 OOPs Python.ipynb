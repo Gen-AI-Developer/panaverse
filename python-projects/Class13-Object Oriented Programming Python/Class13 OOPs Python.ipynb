{
 "cells": [
  {
   "cell_type": "markdown",
   "metadata": {},
   "source": [
    "# Object Oriented Programming in Python"
   ]
  },
  {
   "cell_type": "markdown",
   "metadata": {},
   "source": [
    "#OOPs\n",
    "* Class\n",
    "* methods\n",
    "* variable\n",
    "* constructor\n",
    "    * ''' __init__ '''"
   ]
  },
  {
   "cell_type": "code",
   "execution_count": 1,
   "metadata": {},
   "outputs": [],
   "source": [
    "class Person:\n",
    "    def __init__(self) -> None:\n",
    "        pass\n",
    "    pass"
   ]
  },
  {
   "cell_type": "code",
   "execution_count": 2,
   "metadata": {},
   "outputs": [],
   "source": [
    "class Teacher():\n",
    "    def __init__(self,teacher_name : str,teacher_id : int,teacher_expertise : str) -> None:\n",
    "        self.teacher_name = teacher_name\n",
    "        self.teacher_id = teacher_id\n",
    "        self.teacher_expertise = teacher_expertise\n",
    "        \n",
    "    def speak(self,words : str):\n",
    "        print(f'The Teacher will speaking abour {words}')\n",
    "        \n",
    "    def teaching (self):\n",
    "        print(f'Teacher suject is {self.teacher_expertise}')\n"
   ]
  },
  {
   "cell_type": "code",
   "execution_count": 3,
   "metadata": {},
   "outputs": [],
   "source": [
    "teacObj1 : Teacher = Teacher(teacher_id=1234,teacher_name=\"Qasim\",teacher_expertise=\"Data Science\")"
   ]
  },
  {
   "cell_type": "code",
   "execution_count": 4,
   "metadata": {},
   "outputs": [
    {
     "name": "stdout",
     "output_type": "stream",
     "text": [
      "The Teacher will speaking abour Genterative AI Classes ONline\n"
     ]
    }
   ],
   "source": [
    "teacObj1.speak(\"Genterative AI Classes ONline\")"
   ]
  },
  {
   "cell_type": "code",
   "execution_count": 5,
   "metadata": {},
   "outputs": [
    {
     "name": "stdout",
     "output_type": "stream",
     "text": [
      "Teacher suject is Data Science\n"
     ]
    }
   ],
   "source": [
    "teacObj1.teaching()"
   ]
  },
  {
   "cell_type": "markdown",
   "metadata": {},
   "source": [
    "# Class Variables\n"
   ]
  },
  {
   "cell_type": "code",
   "execution_count": 6,
   "metadata": {},
   "outputs": [
    {
     "name": "stdout",
     "output_type": "stream",
     "text": [
      "2\n"
     ]
    }
   ],
   "source": [
    "class Teacher():\n",
    "    counter : int = 1\n",
    "    message : str = \":THIS IS A MESSAGE OF ALL TEACHERS:\"\n",
    "    def __init__(self,teacher_name : str,teacher_id : int,teacher_expertise : str) -> None:\n",
    "        self.teacher_name = teacher_name\n",
    "        self.teacher_id = teacher_id\n",
    "        self.teacher_expertise = teacher_expertise\n",
    "        Teacher.counter += 1\n",
    "         \n",
    "    def speak(self,words : str):\n",
    "        print(f'The Teacher will speaking abour {words}')\n",
    "        \n",
    "    def teaching (self):\n",
    "        print(f'Teacher suject is {self.teacher_expertise}')\n",
    "\n",
    "Obj1 : Teacher = Teacher(teacher_id=1234,teacher_name=\"Qasim\",teacher_expertise=\"Data Science\")\n",
    "\n",
    "Obj1.message\n",
    "print(f'{Teacher.counter}')"
   ]
  },
  {
   "cell_type": "code",
   "execution_count": 7,
   "metadata": {},
   "outputs": [
    {
     "name": "stdout",
     "output_type": "stream",
     "text": [
      "3\n"
     ]
    }
   ],
   "source": [
    "Obj23 : Teacher = Teacher(\"safdar\",2344,\"ds\")\n",
    "Obj23.message\n",
    "print(f'{Teacher.counter}')"
   ]
  },
  {
   "cell_type": "code",
   "execution_count": 12,
   "metadata": {},
   "outputs": [
    {
     "name": "stdout",
     "output_type": "stream",
     "text": [
      "Blue\n",
      "Golden\n",
      "Parent Method of Speaking : speaking about parent class\n",
      "Parent Method : and Your watching At : im watching at parent class\n",
      "Blue\n",
      "Golden\n",
      "Parent Method of Speaking : Im speacking about chld class\n",
      "Parent Method : and Your watching At : watching at child class\n",
      "child is teaching about GentAi\n"
     ]
    }
   ],
   "source": [
    "class Parents():\n",
    "    def __init__(self) -> None:\n",
    "        self.eye_color : str = 'Blue'\n",
    "        self.hair_color : str = 'Golden'\n",
    "        \n",
    "    def speak(self, words:str)-> None:\n",
    "        print(f'Parent Method of Speaking : {words}')\n",
    "    \n",
    "    def watching(self,object_name:str)-> None:\n",
    "        print(f'Parent Method : and Your watching At : {object_name}')\n",
    "\n",
    "class Child(Parents):\n",
    "    def teaching(self, subject : str = None)-> None:\n",
    "        print(f'child is teaching about {subject}')\n",
    "\n",
    "\n",
    "Ob1 : Parents = Parents()\n",
    "print(Ob1.eye_color)\n",
    "print(Ob1.hair_color)\n",
    "Ob1.speak('speaking about parent class')\n",
    "Ob1.watching('im watching at parent class')\n",
    "\n",
    "### Child Class Methods ####\n",
    "Ob2 : Child = Child()\n",
    "print(Ob2.eye_color)\n",
    "print(Ob2.hair_color)\n",
    "Ob2.speak('Im speacking about chld class')\n",
    "Ob2.watching('watching at child class')\n",
    "Ob2.teaching('GentAi')"
   ]
  },
  {
   "cell_type": "code",
   "execution_count": 15,
   "metadata": {},
   "outputs": [
    {
     "name": "stdout",
     "output_type": "stream",
     "text": [
      "HRM\n",
      "Animation Artist\n",
      "['python']\n"
     ]
    }
   ],
   "source": [
    "from typing import List\n",
    "\n",
    "\n",
    "class Employee():\n",
    "    def __init__(self) -> None:\n",
    "        self.name : str = ''\n",
    "        self.education = ''\n",
    "        self.department = ''\n",
    "\n",
    "class Designer(Employee):\n",
    "    def __init__(self,title:str) -> None:\n",
    "        super().__init__()\n",
    "        self.title = title\n",
    "        self.designingSkills : List[str] = []\n",
    "    \n",
    "class Developer(Employee):\n",
    "    def __init__(self, title : str ) -> None:\n",
    "        super().__init__()\n",
    "        self.title : str = title \n",
    "        self.programmingSkills : List[str] = ['python']\n",
    "desi : Designer = Designer(\"Animation Artist\")\n",
    "desi.department = 'HRM'\n",
    "develpr : Developer = Developer(' Gen Ai Engineer')\n",
    "\n",
    "print(f'{desi.department}')\n",
    "print(f'{desi.title}')\n",
    "print(f'{develpr.programmingSkills}')\n"
   ]
  },
  {
   "cell_type": "code",
   "execution_count": null,
   "metadata": {},
   "outputs": [],
   "source": []
  }
 ],
 "metadata": {
  "kernelspec": {
   "display_name": "Python 3",
   "language": "python",
   "name": "python3"
  },
  "language_info": {
   "codemirror_mode": {
    "name": "ipython",
    "version": 3
   },
   "file_extension": ".py",
   "mimetype": "text/x-python",
   "name": "python",
   "nbconvert_exporter": "python",
   "pygments_lexer": "ipython3",
   "version": "3.12.1"
  }
 },
 "nbformat": 4,
 "nbformat_minor": 2
}
