{
 "cells": [
  {
   "cell_type": "markdown",
   "metadata": {},
   "source": [
    "# Object Oriented Programming in Python"
   ]
  },
  {
   "cell_type": "markdown",
   "metadata": {},
   "source": [
    "#OOPs\n",
    "* Class\n",
    "* methods\n",
    "* variable\n",
    "* constructor\n",
    "    * ''' __init__ '''"
   ]
  },
  {
   "cell_type": "code",
   "execution_count": 1,
   "metadata": {},
   "outputs": [],
   "source": [
    "class Person:\n",
    "    def __init__(self) -> None:\n",
    "        pass\n",
    "    pass"
   ]
  },
  {
   "cell_type": "code",
   "execution_count": 10,
   "metadata": {},
   "outputs": [],
   "source": [
    "class Teacher():\n",
    "    def __init__(self,teacher_name : str,teacher_id : int,teacher_expertise : str) -> None:\n",
    "        self.teacher_name = teacher_name\n",
    "        self.teacher_id = teacher_id\n",
    "        self.teacher_expertise = teacher_expertise\n",
    "        \n",
    "    def speak(self,words : str):\n",
    "        print(f'The Teacher will speaking abour {words}')\n",
    "        \n",
    "    def teaching (self):\n",
    "        print(f'Teacher suject is {self.teacher_expertise}')\n"
   ]
  },
  {
   "cell_type": "code",
   "execution_count": 11,
   "metadata": {},
   "outputs": [],
   "source": [
    "teacObj1 : Teacher = Teacher(teacher_id=1234,teacher_name=\"Qasim\",teacher_expertise=\"Data Science\")"
   ]
  },
  {
   "cell_type": "code",
   "execution_count": 12,
   "metadata": {},
   "outputs": [
    {
     "name": "stdout",
     "output_type": "stream",
     "text": [
      "The Teacher will speaking abour Genterative AI Classes ONline\n"
     ]
    }
   ],
   "source": [
    "teacObj1.speak(\"Genterative AI Classes ONline\")"
   ]
  },
  {
   "cell_type": "code",
   "execution_count": 13,
   "metadata": {},
   "outputs": [
    {
     "name": "stdout",
     "output_type": "stream",
     "text": [
      "Teacher suject is Data Science\n"
     ]
    }
   ],
   "source": [
    "teacObj1.teaching()"
   ]
  },
  {
   "cell_type": "markdown",
   "metadata": {},
   "source": [
    "# Class Variables\n"
   ]
  },
  {
   "cell_type": "code",
   "execution_count": 23,
   "metadata": {},
   "outputs": [
    {
     "name": "stdout",
     "output_type": "stream",
     "text": [
      "2\n"
     ]
    }
   ],
   "source": [
    "class Teacher():\n",
    "    counter : int = 1\n",
    "    message : str = \":THIS IS A MESSAGE OF ALL TEACHERS:\"\n",
    "    def __init__(self,teacher_name : str,teacher_id : int,teacher_expertise : str) -> None:\n",
    "        self.teacher_name = teacher_name\n",
    "        self.teacher_id = teacher_id\n",
    "        self.teacher_expertise = teacher_expertise\n",
    "        Teacher.counter += 1\n",
    "         \n",
    "    def speak(self,words : str):\n",
    "        print(f'The Teacher will speaking abour {words}')\n",
    "        \n",
    "    def teaching (self):\n",
    "        print(f'Teacher suject is {self.teacher_expertise}')\n",
    "\n",
    "Obj1 : Teacher = Teacher(teacher_id=1234,teacher_name=\"Qasim\",teacher_expertise=\"Data Science\")\n",
    "\n",
    "Obj1.message\n",
    "print(f'{Teacher.counter}')"
   ]
  },
  {
   "cell_type": "code",
   "execution_count": 24,
   "metadata": {},
   "outputs": [
    {
     "name": "stdout",
     "output_type": "stream",
     "text": [
      "3\n"
     ]
    }
   ],
   "source": [
    "Obj23 : Teacher = Teacher(\"safdar\",2344,\"ds\")\n",
    "Obj23.message\n",
    "print(f'{Teacher.counter}')"
   ]
  },
  {
   "cell_type": "code",
   "execution_count": null,
   "metadata": {},
   "outputs": [],
   "source": []
  }
 ],
 "metadata": {
  "kernelspec": {
   "display_name": "Python 3",
   "language": "python",
   "name": "python3"
  },
  "language_info": {
   "codemirror_mode": {
    "name": "ipython",
    "version": 3
   },
   "file_extension": ".py",
   "mimetype": "text/x-python",
   "name": "python",
   "nbconvert_exporter": "python",
   "pygments_lexer": "ipython3",
   "version": "3.12.1"
  }
 },
 "nbformat": 4,
 "nbformat_minor": 2
}
