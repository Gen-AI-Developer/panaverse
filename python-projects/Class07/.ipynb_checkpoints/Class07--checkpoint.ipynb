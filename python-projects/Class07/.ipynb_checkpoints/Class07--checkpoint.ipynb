{
 "cells": [
  {
   "cell_type": "markdown",
   "id": "8f411c89",
   "metadata": {},
   "source": [
    "# Class 07"
   ]
  },
  {
   "cell_type": "markdown",
   "id": "fbc2fb1b",
   "metadata": {},
   "source": [
    "## Dictionary\n",
    "* key : value  [pair items]\n",
    "    * key replacement of indexes\n",
    "    * values items"
   ]
  },
  {
   "cell_type": "code",
   "execution_count": 6,
   "id": "85016d88",
   "metadata": {},
   "outputs": [
    {
     "data": {
      "text/plain": [
       "{'name': 'SafdarAliShah', 'fname': 'GhafoorShah', 'education': 'BCCS'}"
      ]
     },
     "metadata": {},
     "output_type": "display_data"
    },
    {
     "name": "stdout",
     "output_type": "stream",
     "text": [
      "{'education': 'BCCS', 'fname': 'GhafoorShah', 'name': 'SafdarAliShah'}\n"
     ]
    }
   ],
   "source": [
    "from typing import Dict\n",
    "import pprint\n",
    "# list\n",
    "data : Dict[str,str] = {\n",
    "    'name':'SafdarAliShah',\n",
    "    'fname':'GhafoorShah',\n",
    "    'education':'BCCS'\n",
    "}\n",
    "display(data)\n",
    "pprint.pprint(data)"
   ]
  },
  {
   "cell_type": "code",
   "execution_count": 8,
   "id": "bc2aa046",
   "metadata": {},
   "outputs": [
    {
     "data": {
      "text/plain": [
       "{'name': 'SafdarAliShah', 'fname': 'GhafoorShah', 'education': 'BCCS'}"
      ]
     },
     "metadata": {},
     "output_type": "display_data"
    },
    {
     "name": "stdout",
     "output_type": "stream",
     "text": [
      "{'education': 'BCCS', 'fname': 'GhafoorShah', 'name': 'SafdarAliShah'}\n"
     ]
    }
   ],
   "source": [
    "from typing import Dict, Union, Optional\n",
    "import pprint\n",
    "key = Union[int,str]\n",
    "value = Union[int,str,list,dict,tuple,set]\n",
    "# list\n",
    "data : Dict[key,value] = {\n",
    "    'name':'SafdarAliShah',\n",
    "    'fname':'GhafoorShah',\n",
    "    'education':'BCCS'\n",
    "}\n",
    "display(data)\n",
    "pprint.pprint(data)"
   ]
  },
  {
   "cell_type": "code",
   "execution_count": 8,
   "id": "7988a6f3",
   "metadata": {},
   "outputs": [
    {
     "data": {
      "text/plain": [
       "{'name': 'SafdarAliShah', 'fname': 'GhafoorShah', 'education': 'BCCS'}"
      ]
     },
     "metadata": {},
     "output_type": "display_data"
    },
    {
     "name": "stdout",
     "output_type": "stream",
     "text": [
      "{'education': 'BCCS', 'fname': 'GhafoorShah', 'name': 'SafdarAliShah'}\n"
     ]
    }
   ],
   "source": [
    "from typing import Dict, Union, Optional\n",
    "import pprint\n",
    "key = Union[int,str]\n",
    "value = Union[int,str,list,dict,tuple,set]\n",
    "# list\n",
    "data : Dict[key,value] = {\n",
    "    'name':'SafdarAliShah',\n",
    "    'fname':'GhafoorShah',\n",
    "    'education':'BCCS'\n",
    "}\n",
    "display(data)\n",
    "pprint.pprint(data)"
   ]
  },
  {
   "cell_type": "code",
   "execution_count": 14,
   "id": "2dd83d09",
   "metadata": {},
   "outputs": [
    {
     "data": {
      "text/plain": [
       "{'name': 'SafdarAliShah',\n",
       " 'fname': 'GhafoorShah',\n",
       " 'education': 'BCCS',\n",
       " 'cde': {'a': 3, 'b': 34},\n",
       " 'ddd': (2, 2, 2, 2, 2),\n",
       " 'cdr': [3, 3, 3, 3]}"
      ]
     },
     "metadata": {},
     "output_type": "display_data"
    },
    {
     "name": "stdout",
     "output_type": "stream",
     "text": [
      "{'cde': {'a': 3, 'b': 34},\n",
      " 'cdr': [3, 3, 3, 3],\n",
      " 'ddd': (2, 2, 2, 2, 2),\n",
      " 'education': 'BCCS',\n",
      " 'fname': 'GhafoorShah',\n",
      " 'name': 'SafdarAliShah'}\n"
     ]
    },
    {
     "data": {
      "text/plain": [
       "3"
      ]
     },
     "metadata": {},
     "output_type": "display_data"
    }
   ],
   "source": [
    "from typing import Dict, Union, Optional\n",
    "import pprint\n",
    "key = Union[int,str]\n",
    "value = Union[int,str,list,dict,tuple,set]\n",
    "# list\n",
    "data : Dict[key,value] = {\n",
    "    'name':'SafdarAliShah',\n",
    "    'fname':'GhafoorShah',\n",
    "    'education':'BCCS',\n",
    "    'cde': {\"a\":3,\"b\":34},\n",
    "    'ddd': (2,2,2,2,2),\n",
    "    'cdr' : [3,3,3,3],\n",
    "}\n",
    "display(data)\n",
    "pprint.pprint(data)\n",
    "display(data['cde'][\"a\"])"
   ]
  },
  {
   "cell_type": "code",
   "execution_count": 17,
   "id": "081a2c2e",
   "metadata": {},
   "outputs": [],
   "source": [
    "data2 : Dict[key,value] = {}"
   ]
  },
  {
   "cell_type": "code",
   "execution_count": 18,
   "id": "e74381dc",
   "metadata": {},
   "outputs": [],
   "source": [
    "data2['name'] = 'Safdar ali shah'"
   ]
  },
  {
   "cell_type": "code",
   "execution_count": 19,
   "id": "83ca43eb",
   "metadata": {},
   "outputs": [
    {
     "data": {
      "text/plain": [
       "{'name': 'Safdar ali shah'}"
      ]
     },
     "metadata": {},
     "output_type": "display_data"
    }
   ],
   "source": [
    "display(data2)"
   ]
  },
  {
   "cell_type": "code",
   "execution_count": 20,
   "id": "ba84d34c",
   "metadata": {},
   "outputs": [],
   "source": [
    "data2['name'] = 'Safdar Ali Shah Bukhari'"
   ]
  },
  {
   "cell_type": "code",
   "execution_count": 21,
   "id": "376a0442",
   "metadata": {},
   "outputs": [
    {
     "data": {
      "text/plain": [
       "{'name': 'Safdar Ali Shah Bukhari'}"
      ]
     },
     "metadata": {},
     "output_type": "display_data"
    }
   ],
   "source": [
    "display(data2)"
   ]
  },
  {
   "cell_type": "code",
   "execution_count": 23,
   "id": "5a6baf97",
   "metadata": {},
   "outputs": [
    {
     "data": {
      "text/plain": [
       "['clear',\n",
       " 'copy',\n",
       " 'fromkeys',\n",
       " 'get',\n",
       " 'items',\n",
       " 'keys',\n",
       " 'pop',\n",
       " 'popitem',\n",
       " 'setdefault',\n",
       " 'update',\n",
       " 'values']"
      ]
     },
     "execution_count": 23,
     "metadata": {},
     "output_type": "execute_result"
    }
   ],
   "source": [
    "[i for i in dir(data) if \"__\" not in i]"
   ]
  },
  {
   "cell_type": "code",
   "execution_count": 24,
   "id": "dc6956ee",
   "metadata": {},
   "outputs": [
    {
     "name": "stdout",
     "output_type": "stream",
     "text": [
      "key not found\n"
     ]
    }
   ],
   "source": [
    "print(data2.get('paksitan',\"key not found\"))"
   ]
  },
  {
   "cell_type": "code",
   "execution_count": 25,
   "id": "a633bd3d",
   "metadata": {},
   "outputs": [
    {
     "name": "stdout",
     "output_type": "stream",
     "text": [
      "Safdar Ali Shah Bukhari\n"
     ]
    }
   ],
   "source": [
    "print(data2.get('name',\"key not found\"))"
   ]
  },
  {
   "cell_type": "code",
   "execution_count": 26,
   "id": "9d59a8e9",
   "metadata": {},
   "outputs": [
    {
     "name": "stdout",
     "output_type": "stream",
     "text": [
      "dict_keys(['name'])\n"
     ]
    }
   ],
   "source": [
    "print(data2.keys())"
   ]
  },
  {
   "cell_type": "code",
   "execution_count": 27,
   "id": "bc98b91c",
   "metadata": {},
   "outputs": [
    {
     "name": "stdout",
     "output_type": "stream",
     "text": [
      "dict_values(['Safdar Ali Shah Bukhari'])\n"
     ]
    }
   ],
   "source": [
    "print(data2.values())"
   ]
  },
  {
   "cell_type": "code",
   "execution_count": 29,
   "id": "c3459b41",
   "metadata": {},
   "outputs": [
    {
     "name": "stdout",
     "output_type": "stream",
     "text": [
      "dict_items([('name', 'Safdar Ali Shah Bukhari')])\n"
     ]
    }
   ],
   "source": [
    "print(data2.items())"
   ]
  },
  {
   "cell_type": "code",
   "execution_count": 30,
   "id": "843e4803",
   "metadata": {},
   "outputs": [],
   "source": [
    "data2['rolnumber'] = 8823\n",
    "data2['address'] = 'Hassan Gari No 3'"
   ]
  },
  {
   "cell_type": "code",
   "execution_count": 33,
   "id": "1f042d76",
   "metadata": {},
   "outputs": [
    {
     "name": "stdout",
     "output_type": "stream",
     "text": [
      "name Safdar Ali Shah Bukhari\n",
      "rolnumber 8823\n",
      "address Hassan Gari No 3\n"
     ]
    }
   ],
   "source": [
    "for v,k in data2.items():\n",
    "    print(v,k)"
   ]
  },
  {
   "cell_type": "code",
   "execution_count": 35,
   "id": "aabd111d",
   "metadata": {},
   "outputs": [
    {
     "data": {
      "text/plain": [
       "{'name': 'Safdar Ali Shah Bukhari',\n",
       " 'rolnumber': 8823,\n",
       " 'address': 'Hassan Gari No 3'}"
      ]
     },
     "execution_count": 35,
     "metadata": {},
     "output_type": "execute_result"
    }
   ],
   "source": [
    "{v:k for v,k in data2.items()}\n",
    " "
   ]
  },
  {
   "cell_type": "code",
   "execution_count": null,
   "id": "5fd6ea80",
   "metadata": {},
   "outputs": [],
   "source": []
  }
 ],
 "metadata": {
  "kernelspec": {
   "display_name": "Python 3 (ipykernel)",
   "language": "python",
   "name": "python3"
  },
  "language_info": {
   "codemirror_mode": {
    "name": "ipython",
    "version": 3
   },
   "file_extension": ".py",
   "mimetype": "text/x-python",
   "name": "python",
   "nbconvert_exporter": "python",
   "pygments_lexer": "ipython3",
   "version": "3.11.5"
  }
 },
 "nbformat": 4,
 "nbformat_minor": 5
}
