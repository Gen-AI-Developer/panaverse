{
 "cells": [
  {
   "cell_type": "markdown",
   "metadata": {},
   "source": [
    "# Class Five Python - list tuple and list comprehensive"
   ]
  },
  {
   "cell_type": "code",
   "execution_count": 2,
   "metadata": {
    "vscode": {
     "languageId": "plaintext"
    }
   },
   "outputs": [
    {
     "name": "stdout",
     "output_type": "stream",
     "text": [
      "syedsyedsyedsyedsyedsyedsyedsyedsyedsyed\n"
     ]
    }
   ],
   "source": [
    "names : str = ['safdar','Ali','shah','bukhari','syed']\n",
    "for name in names:\n",
    "    if (name == \"syed\"):\n",
    "        print(name*10)"
   ]
  },
  {
   "cell_type": "markdown",
   "metadata": {},
   "source": [
    "# Old way to loop"
   ]
  },
  {
   "cell_type": "code",
   "execution_count": 3,
   "metadata": {},
   "outputs": [
    {
     "name": "stdout",
     "output_type": "stream",
     "text": [
      "safdar\n",
      "Ali\n",
      "shah\n",
      "bukhari\n",
      "syed\n"
     ]
    }
   ],
   "source": [
    "i = 0\n",
    "while (i<len(names)):\n",
    "    print(names[i])\n",
    "    i += 1\n"
   ]
  },
  {
   "cell_type": "markdown",
   "metadata": {},
   "source": [
    "# Old way to loop for\n",
    "for (i=o; i<length(names);i++)\n",
    "{\n",
    "    print('Message')\n",
    "}"
   ]
  },
  {
   "cell_type": "markdown",
   "metadata": {},
   "source": [
    "for name in names:\n",
    "    print(name("
   ]
  },
  {
   "cell_type": "code",
   "execution_count": 4,
   "metadata": {},
   "outputs": [
    {
     "name": "stdout",
     "output_type": "stream",
     "text": [
      "syed\n",
      "Welcome to Our Gen Ai Team Syed\n",
      "bukhari\n",
      "Welcome to Our Gen Ai Team Bukhari\n",
      "shah\n",
      "Welcome to Our Gen Ai Team Shah\n",
      "Ali\n",
      "Welcome to Our Gen Ai Team Ali\n",
      "safdar\n",
      "Welcome to Our Gen Ai Team Safdar\n"
     ]
    }
   ],
   "source": [
    "for name in names[::-1]:\n",
    "    print(name)\n",
    "    print(f'Welcome to Our Gen Ai Team {name.title()}')"
   ]
  },
  {
   "cell_type": "code",
   "execution_count": 5,
   "metadata": {},
   "outputs": [
    {
     "name": "stdout",
     "output_type": "stream",
     "text": [
      "safar safdar234\n",
      "ali @@888\n",
      "shah @@123\n",
      "bukhari @1234\n",
      "syed 12345\n"
     ]
    }
   ],
   "source": [
    "from typing import Tuple\n",
    "data_base: list[tuple[str,str]] = [\n",
    "                                    (\"safar\",\"safdar234\"),\n",
    "                                    (\"ali\",\"@@888\"),\n",
    "                                    (\"shah\",\"@@123\"),\n",
    "                                    (\"bukhari\",\"@1234\"),\n",
    "                                    (\"syed\",\"12345\"),\n",
    "                                ]\n",
    "for row in data_base:\n",
    "    user, password = row\n",
    "    print(user, password)"
   ]
  },
  {
   "cell_type": "code",
   "execution_count": 6,
   "metadata": {},
   "outputs": [
    {
     "name": "stdout",
     "output_type": "stream",
     "text": [
      "enter your usernamesafdar\n",
      "enter your Passwordsars\n",
      "User Not Found\n"
     ]
    }
   ],
   "source": [
    "from typing import Tuple\n",
    "data_base: list[tuple[str,str]] = [\n",
    "                                    (\"safar\",\"safdar234\"),\n",
    "                                    (\"ali\",\"@@888\"),\n",
    "                                    (\"shah\",\"@@123\"),\n",
    "                                    (\"bukhari\",\"@1234\"),\n",
    "                                    (\"syed\",\"12345\"),\n",
    "                                ]\n",
    "input_user : str = input(\"enter your username\")\n",
    "input_password : str = input(\"enter your Password\")\n",
    "    \n",
    "for row in data_base:\n",
    "    user, password = row\n",
    "    if input_user == user and input_password == password:\n",
    "        print(\"Login Successfull\")\n",
    "        break\n",
    "else:\n",
    "    print('User Not Found')"
   ]
  },
  {
   "cell_type": "markdown",
   "metadata": {},
   "source": [
    "from typing import Tuple\n",
    "data_base: list[tuple[str,str]] = [\n",
    "                                    (\"safar\",\"safdar234\"),\n",
    "                                    (\"ali\",\"@@888\"),\n",
    "                                    (\"shah\",\"@@123\"),\n",
    "                                    (\"bukhari\",\"@1234\"),\n",
    "                                    (\"syed\",\"12345\"),\n",
    "                                ]\n",
    "input_user : str = input(\"enter your username\")\n",
    "input_password : str = input(\"enter your Password\")\n",
    "    \n",
    "for row in data_base:\n",
    "    user, password = row\n",
    "    if input_user , input_password == user , password:\n",
    "        print(\"Login Successfull\")\n",
    "        break"
   ]
  },
  {
   "cell_type": "markdown",
   "metadata": {},
   "source": [
    "# Enumerates"
   ]
  },
  {
   "cell_type": "code",
   "execution_count": 7,
   "metadata": {},
   "outputs": [
    {
     "data": {
      "text/plain": [
       "[(0, 'ali'), (1, 'shah'), (2, 'Alex'), (3, 'Tom'), (4, 'Jerry')]"
      ]
     },
     "execution_count": 7,
     "metadata": {},
     "output_type": "execute_result"
    }
   ],
   "source": [
    "magician = ['ali','shah','Alex','Tom','Jerry']\n",
    "list(enumerate(magician))"
   ]
  },
  {
   "cell_type": "code",
   "execution_count": 9,
   "metadata": {},
   "outputs": [
    {
     "name": "stdout",
     "output_type": "stream",
     "text": [
      "0 ali\n",
      "1 shah\n",
      "2 Alex\n",
      "3 Tom\n",
      "4 Jerry\n"
     ]
    }
   ],
   "source": [
    "for index, name in enumerate(magician):\n",
    "    print(index, name)"
   ]
  },
  {
   "cell_type": "code",
   "execution_count": 10,
   "metadata": {},
   "outputs": [],
   "source": [
    "x  = list(enumerate(magician))"
   ]
  },
  {
   "cell_type": "code",
   "execution_count": 11,
   "metadata": {},
   "outputs": [
    {
     "name": "stdout",
     "output_type": "stream",
     "text": [
      "[(0, 'ali'), (1, 'shah'), (2, 'Alex'), (3, 'Tom'), (4, 'Jerry')]\n"
     ]
    }
   ],
   "source": [
    "print(x)"
   ]
  },
  {
   "cell_type": "code",
   "execution_count": 12,
   "metadata": {},
   "outputs": [
    {
     "data": {
      "text/plain": [
       "(0, 'ali')"
      ]
     },
     "execution_count": 12,
     "metadata": {},
     "output_type": "execute_result"
    }
   ],
   "source": [
    "x[0]"
   ]
  },
  {
   "cell_type": "code",
   "execution_count": null,
   "metadata": {},
   "outputs": [],
   "source": []
  }
 ],
 "metadata": {
  "kernelspec": {
   "display_name": "Python 3 (ipykernel)",
   "language": "python",
   "name": "python3"
  },
  "language_info": {
   "codemirror_mode": {
    "name": "ipython",
    "version": 3
   },
   "file_extension": ".py",
   "mimetype": "text/x-python",
   "name": "python",
   "nbconvert_exporter": "python",
   "pygments_lexer": "ipython3",
   "version": "3.11.5"
  }
 },
 "nbformat": 4,
 "nbformat_minor": 2
}
