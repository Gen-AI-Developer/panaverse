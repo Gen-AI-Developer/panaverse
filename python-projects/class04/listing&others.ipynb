{
 "cells": [
  {
   "cell_type": "markdown",
   "metadata": {},
   "source": [
    "#Class 04 Listing"
   ]
  },
  {
   "cell_type": "markdown",
   "metadata": {},
   "source": [
    "# List in Python\n",
    "* Dynamic Lists\n",
    "* hetrogenios data (Mix Data type values)\n",
    "* indexing\n",
    "    * Positive 1 to n-1\n",
    "    * Negative -1 to -length "
   ]
  },
  {
   "cell_type": "code",
   "execution_count": 13,
   "metadata": {},
   "outputs": [
    {
     "name": "stdout",
     "output_type": "stream",
     "text": [
      "True\n",
      "Syed\n"
     ]
    }
   ],
   "source": [
    "## Old Method of Lists in Python\n",
    "names = [\"Safdar\",\"Ali\",\"Shah\",\"Bukhari\",\"Syed\"]\n",
    "print(names[2]==names[-3])\n",
    "print(names[-1])"
   ]
  },
  {
   "cell_type": "code",
   "execution_count": null,
   "metadata": {},
   "outputs": [],
   "source": []
  }
 ],
 "metadata": {
  "kernelspec": {
   "display_name": "Python 3",
   "language": "python",
   "name": "python3"
  },
  "language_info": {
   "codemirror_mode": {
    "name": "ipython",
    "version": 3
   },
   "file_extension": ".py",
   "mimetype": "text/x-python",
   "name": "python",
   "nbconvert_exporter": "python",
   "pygments_lexer": "ipython3",
   "version": "3.11.6"
  }
 },
 "nbformat": 4,
 "nbformat_minor": 2
}
