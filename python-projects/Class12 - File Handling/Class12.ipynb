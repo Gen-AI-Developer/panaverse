{
 "cells": [
  {
   "cell_type": "code",
   "execution_count": 1,
   "metadata": {},
   "outputs": [
    {
     "ename": "StudentAgeError",
     "evalue": "<<:ERROR:>> Your are not eligible",
     "output_type": "error",
     "traceback": [
      "\u001b[0;31m---------------------------------------------------------------------------\u001b[0m",
      "\u001b[0;31mStudentAgeError\u001b[0m                           Traceback (most recent call last)",
      "\u001b[0;32m/tmp/ipykernel_8974/1922746771.py\u001b[0m in \u001b[0;36m<module>\u001b[0;34m\u001b[0m\n\u001b[1;32m     10\u001b[0m     \u001b[0;32mpass\u001b[0m\u001b[0;34m\u001b[0m\u001b[0;34m\u001b[0m\u001b[0m\n\u001b[1;32m     11\u001b[0m \u001b[0;34m\u001b[0m\u001b[0m\n\u001b[0;32m---> 12\u001b[0;31m \u001b[0mstudent1\u001b[0m \u001b[0;34m=\u001b[0m \u001b[0mStudentCard\u001b[0m\u001b[0;34m(\u001b[0m\u001b[0;34m'Safdar'\u001b[0m\u001b[0;34m,\u001b[0m\u001b[0;36m232\u001b[0m\u001b[0;34m,\u001b[0m\u001b[0;36m232\u001b[0m\u001b[0;34m)\u001b[0m\u001b[0;34m\u001b[0m\u001b[0;34m\u001b[0m\u001b[0m\n\u001b[0m",
      "\u001b[0;32m/tmp/ipykernel_8974/1922746771.py\u001b[0m in \u001b[0;36m__init__\u001b[0;34m(self, name, age, roll_number)\u001b[0m\n\u001b[1;32m      2\u001b[0m     \u001b[0;32mdef\u001b[0m \u001b[0m__init__\u001b[0m\u001b[0;34m(\u001b[0m\u001b[0mself\u001b[0m\u001b[0;34m,\u001b[0m \u001b[0mname\u001b[0m\u001b[0;34m:\u001b[0m\u001b[0mstr\u001b[0m\u001b[0;34m,\u001b[0m\u001b[0mage\u001b[0m\u001b[0;34m:\u001b[0m\u001b[0mint\u001b[0m\u001b[0;34m,\u001b[0m\u001b[0mroll_number\u001b[0m\u001b[0;34m:\u001b[0m\u001b[0mint\u001b[0m\u001b[0;34m)\u001b[0m \u001b[0;34m->\u001b[0m \u001b[0;32mNone\u001b[0m\u001b[0;34m:\u001b[0m\u001b[0;34m\u001b[0m\u001b[0;34m\u001b[0m\u001b[0m\n\u001b[1;32m      3\u001b[0m         \u001b[0;32mif\u001b[0m \u001b[0mage\u001b[0m\u001b[0;34m<\u001b[0m\u001b[0;36m18\u001b[0m \u001b[0;32mor\u001b[0m \u001b[0mage\u001b[0m\u001b[0;34m>\u001b[0m\u001b[0;36m60\u001b[0m\u001b[0;34m:\u001b[0m\u001b[0;34m\u001b[0m\u001b[0;34m\u001b[0m\u001b[0m\n\u001b[0;32m----> 4\u001b[0;31m             \u001b[0;32mraise\u001b[0m \u001b[0mStudentAgeError\u001b[0m\u001b[0;34m(\u001b[0m\u001b[0;34m\"<<:ERROR:>> Your are not eligible\"\u001b[0m\u001b[0;34m)\u001b[0m\u001b[0;34m\u001b[0m\u001b[0;34m\u001b[0m\u001b[0m\n\u001b[0m\u001b[1;32m      5\u001b[0m         \u001b[0mself\u001b[0m\u001b[0;34m.\u001b[0m\u001b[0mage\u001b[0m \u001b[0;34m=\u001b[0m \u001b[0mage\u001b[0m\u001b[0;34m\u001b[0m\u001b[0;34m\u001b[0m\u001b[0m\n\u001b[1;32m      6\u001b[0m         \u001b[0mself\u001b[0m\u001b[0;34m.\u001b[0m\u001b[0mroll_number\u001b[0m \u001b[0;34m=\u001b[0m \u001b[0mroll_number\u001b[0m\u001b[0;34m\u001b[0m\u001b[0;34m\u001b[0m\u001b[0m\n",
      "\u001b[0;31mStudentAgeError\u001b[0m: <<:ERROR:>> Your are not eligible"
     ]
    }
   ],
   "source": [
    "class StudentCard():\n",
    "    def __init__(self, name:str,age:int,roll_number:int) -> None:\n",
    "        if age<18 or age>60:\n",
    "            raise StudentAgeError(\"<<:ERROR:>> Your are not eligible\")\n",
    "        self.age = age\n",
    "        self.roll_number = roll_number\n",
    "        self.name = name\n",
    "\n",
    "class StudentAgeError(Exception):\n",
    "    pass\n",
    "\n",
    "student1 = StudentCard('Safdar',232,232)"
   ]
  },
  {
   "cell_type": "code",
   "execution_count": 8,
   "metadata": {},
   "outputs": [
    {
     "name": "stdout",
     "output_type": "stream",
     "text": [
      "this is try block\n",
      "this is else block\n",
      "this is finally block\n"
     ]
    }
   ],
   "source": [
    "try:\n",
    "    print(f'this is try block')\n",
    "    pass\n",
    "    #raise Exception  \n",
    "except Exception as e:\n",
    "    print(f'this is except block')\n",
    "    pass\n",
    "else:\n",
    "    print(f'this is else block')\n",
    "    pass\n",
    "finally:\n",
    "    print(f'this is finally block')\n",
    "    pass\n",
    "\n"
   ]
  },
  {
   "cell_type": "markdown",
   "metadata": {},
   "source": [
    "# File Handling"
   ]
  },
  {
   "cell_type": "code",
   "execution_count": 10,
   "metadata": {},
   "outputs": [
    {
     "data": {
      "text/plain": [
       "<_io.TextIOWrapper name='./abc.text' mode='r' encoding='UTF-8'>"
      ]
     },
     "execution_count": 10,
     "metadata": {},
     "output_type": "execute_result"
    }
   ],
   "source": [
    "open('./abc.text')"
   ]
  },
  {
   "cell_type": "code",
   "execution_count": 3,
   "metadata": {},
   "outputs": [
    {
     "name": "stdout",
     "output_type": "stream",
     "text": [
      "line1 \n",
      "line2\n",
      "line3\n",
      "line4 \n",
      "line5\n",
      "line6\n"
     ]
    }
   ],
   "source": [
    "from typing import TextIO\n",
    "data : TextIO = open('./abc.text')\n",
    "print (f'{data.read()}')\n",
    "data.close()"
   ]
  },
  {
   "cell_type": "code",
   "execution_count": 6,
   "metadata": {},
   "outputs": [
    {
     "name": "stdout",
     "output_type": "stream",
     "text": [
      "line1 \n",
      "line2\n",
      "line3\n",
      "line4 \n",
      "line5\n",
      "line6\n"
     ]
    }
   ],
   "source": [
    "from typing import TextIO\n",
    "with open('./abc.text') as file:\n",
    "    context : str = file.read()\n",
    "    print(f'{context}')"
   ]
  },
  {
   "cell_type": "code",
   "execution_count": 7,
   "metadata": {},
   "outputs": [
    {
     "name": "stdout",
     "output_type": "stream",
     "text": [
      "line1 \n",
      "\n"
     ]
    }
   ],
   "source": [
    "from typing import TextIO\n",
    "with open('./abc.text') as file:\n",
    "    context : str = file.readline() # Only reads first line of the file\n",
    "    print(f'{context}')"
   ]
  },
  {
   "cell_type": "code",
   "execution_count": 10,
   "metadata": {},
   "outputs": [
    {
     "name": "stdout",
     "output_type": "stream",
     "text": [
      "['line1 \\n']\n"
     ]
    }
   ],
   "source": [
    "from typing import TextIO\n",
    "with open('./abc.text') as file:\n",
    "    context : str = file.readlines()[:3]\n",
    "    print(f'{context[:1]}')"
   ]
  },
  {
   "cell_type": "code",
   "execution_count": 11,
   "metadata": {},
   "outputs": [
    {
     "ename": "UnsupportedOperation",
     "evalue": "not writable",
     "output_type": "error",
     "traceback": [
      "\u001b[0;31m---------------------------------------------------------------------------\u001b[0m",
      "\u001b[0;31mUnsupportedOperation\u001b[0m                      Traceback (most recent call last)",
      "Cell \u001b[0;32mIn [11], line 4\u001b[0m\n\u001b[1;32m      2\u001b[0m \u001b[38;5;28;01mwith\u001b[39;00m \u001b[38;5;28mopen\u001b[39m(\u001b[38;5;124m'\u001b[39m\u001b[38;5;124m./abc.text\u001b[39m\u001b[38;5;124m'\u001b[39m,\u001b[38;5;124m'\u001b[39m\u001b[38;5;124mr\u001b[39m\u001b[38;5;124m'\u001b[39m) \u001b[38;5;28;01mas\u001b[39;00m file:\n\u001b[1;32m      3\u001b[0m     context : \u001b[38;5;28mstr\u001b[39m \u001b[38;5;241m=\u001b[39m file\u001b[38;5;241m.\u001b[39mreadlines()\n\u001b[0;32m----> 4\u001b[0m     \u001b[43mfile\u001b[49m\u001b[38;5;241;43m.\u001b[39;49m\u001b[43mwrite\u001b[49m\u001b[43m(\u001b[49m\u001b[38;5;124;43m'\u001b[39;49m\u001b[38;5;124;43mPaksitan Zinda Abad\u001b[39;49m\u001b[38;5;124;43m'\u001b[39;49m\u001b[43m)\u001b[49m\n\u001b[1;32m      5\u001b[0m     \u001b[38;5;28mprint\u001b[39m(\u001b[38;5;124mf\u001b[39m\u001b[38;5;124m'\u001b[39m\u001b[38;5;132;01m{\u001b[39;00mcontext\u001b[38;5;132;01m}\u001b[39;00m\u001b[38;5;124m'\u001b[39m)\n",
      "\u001b[0;31mUnsupportedOperation\u001b[0m: not writable"
     ]
    }
   ],
   "source": [
    "from typing import TextIO\n",
    "with open('./abc.text','r') as file:\n",
    "    context : str = file.readlines()\n",
    "    file.write('Paksitan Zinda Abad')\n",
    "    print(f'{context}')"
   ]
  },
  {
   "cell_type": "code",
   "execution_count": 16,
   "metadata": {},
   "outputs": [
    {
     "name": "stdout",
     "output_type": "stream",
     "text": [
      "['line1 \\n', 'line2\\n', 'line3\\n', 'line4 \\n', 'line5\\n', 'line6Pakistan Zinda AbadPakistan Zinda Abad']\n"
     ]
    }
   ],
   "source": [
    "from typing import TextIO\n",
    "with open('./abc.text', 'r+') as file:\n",
    "    context : str = file.readlines()\n",
    "    file.write('Pakistan Zinda Abad')\n",
    "    print(f'{context}')"
   ]
  },
  {
   "cell_type": "code",
   "execution_count": 15,
   "metadata": {},
   "outputs": [
    {
     "name": "stdout",
     "output_type": "stream",
     "text": [
      "['line1 \\n', 'line2\\n', 'line3\\n', 'line4 \\n', 'line5\\n', 'line6Pakistan Zinda Abad']\n"
     ]
    }
   ],
   "source": [
    "print(f'{context}')"
   ]
  },
  {
   "cell_type": "code",
   "execution_count": 17,
   "metadata": {},
   "outputs": [
    {
     "name": "stdout",
     "output_type": "stream",
     "text": [
      "['line1 \\n', 'line2\\n', 'line3\\n', 'line4 \\n', 'line5\\n', 'line6Pakistan Zinda AbadPakistan Zinda AbadPakistan Zinda Abad']\n"
     ]
    }
   ],
   "source": [
    "from typing import TextIO\n",
    "with open('./abc.text', 'r+') as file:\n",
    "    context : str = file.readlines()\n",
    "    file.write('Pakistan Zinda Abad')\n",
    "    file.seek(0)\n",
    "    print(f'{context}')"
   ]
  },
  {
   "cell_type": "markdown",
   "metadata": {},
   "source": [
    "# Modes in File Handling\n"
   ]
  },
  {
   "cell_type": "code",
   "execution_count": 18,
   "metadata": {},
   "outputs": [
    {
     "ename": "FileNotFoundError",
     "evalue": "[Errno 2] No such file or directory: './abc33.text'",
     "output_type": "error",
     "traceback": [
      "\u001b[0;31m---------------------------------------------------------------------------\u001b[0m",
      "\u001b[0;31mFileNotFoundError\u001b[0m                         Traceback (most recent call last)",
      "Cell \u001b[0;32mIn [18], line 2\u001b[0m\n\u001b[1;32m      1\u001b[0m \u001b[38;5;28;01mfrom\u001b[39;00m \u001b[38;5;21;01mtyping\u001b[39;00m \u001b[38;5;28;01mimport\u001b[39;00m TextIO\n\u001b[0;32m----> 2\u001b[0m \u001b[38;5;28;01mwith\u001b[39;00m \u001b[38;5;28;43mopen\u001b[39;49m\u001b[43m(\u001b[49m\u001b[38;5;124;43m'\u001b[39;49m\u001b[38;5;124;43m./abc33.text\u001b[39;49m\u001b[38;5;124;43m'\u001b[39;49m\u001b[43m,\u001b[49m\u001b[43m \u001b[49m\u001b[38;5;124;43m'\u001b[39;49m\u001b[38;5;124;43mr+\u001b[39;49m\u001b[38;5;124;43m'\u001b[39;49m\u001b[43m)\u001b[49m \u001b[38;5;28;01mas\u001b[39;00m file:\n\u001b[1;32m      3\u001b[0m     context : \u001b[38;5;28mstr\u001b[39m \u001b[38;5;241m=\u001b[39m file\u001b[38;5;241m.\u001b[39mreadlines()\n\u001b[1;32m      4\u001b[0m     file\u001b[38;5;241m.\u001b[39mwrite(\u001b[38;5;124m'\u001b[39m\u001b[38;5;124mPakistan Zinda Abad\u001b[39m\u001b[38;5;124m'\u001b[39m)\n",
      "\u001b[0;31mFileNotFoundError\u001b[0m: [Errno 2] No such file or directory: './abc33.text'"
     ]
    }
   ],
   "source": [
    "from typing import TextIO\n",
    "with open('./abc33.text', 'r+') as file:\n",
    "    context : str = file.readlines()\n",
    "    file.write('Pakistan Zinda Abad')\n",
    "    print(f'{context}')"
   ]
  },
  {
   "cell_type": "markdown",
   "metadata": {},
   "source": [
    "if file is not created or there is no file with that name but w mode can create the file and save the value over there."
   ]
  },
  {
   "cell_type": "code",
   "execution_count": 21,
   "metadata": {},
   "outputs": [],
   "source": [
    "from typing import TextIO\n",
    "with open('./abc333.text', 'w') as file:\n",
    "    file.write('Pakistan Zinda Abad')"
   ]
  },
  {
   "cell_type": "code",
   "execution_count": 24,
   "metadata": {},
   "outputs": [
    {
     "name": "stdout",
     "output_type": "stream",
     "text": [
      "['sdfg\\n', 'sdfgsdgf\\n', 'sdfgsdgfsd\\n', 'gsd\\n', 'gf\\n', 'sd\\n', 'fg\\n', 'sdfgsdgfsdg\\n', 'sd\\n', 'fg\\n', 'sdg\\n', 'sdfgsdgfgsd\\n', 'fgsdf\\n', 'gfsdg\\n', 'sdfgsdgfsd\\n', 'fgsdfsd\\n', 'gfsdfg\\n', 'sd\\n', 'gfsdfggs\\n', 'dg\\n', 'sd\\n', 'gfsdfgfgs\\n', 'dfg\\n', 'sdfgsdgfgsdg\\n', 'sdfgsdgfsdgsfd\\n', 'gfsdfgs\\n', 'gfsd\\n', 'gfsdf\\n', 'd\\n', 'fg\\n', 'gf\\n', 's\\n', 'dgf\\n', 'fds\\n', 'sfd\\n', 's\\n', '\\n', 'dgfsdf\\n', 'gsddfg\\n', 'sdfg\\n', 'sdfg\\n', 'sd\\n', 'gfsd\\n', 'gsdfg\\n', 'sdg\\n', 'sdfgsdgf\\n', '\\n', '\\n', '\\n', '\\n', '\\n', '\\n', '\\n', '\\n', '\\n', '\\n', '\\n', 'dfg']\n"
     ]
    }
   ],
   "source": [
    "from typing import TextIO\n",
    "with open('./abc333.text', 'r') as file:\n",
    "    context = file.readlines()\n",
    "    print(f'{context}')"
   ]
  },
  {
   "cell_type": "code",
   "execution_count": 26,
   "metadata": {},
   "outputs": [],
   "source": [
    "from typing import TextIO\n",
    "with open('./abc333.text', 'w') as file:\n",
    "    file.write('Pakistan Zinda Abad')"
   ]
  },
  {
   "cell_type": "code",
   "execution_count": 38,
   "metadata": {},
   "outputs": [],
   "source": [
    "from typing import TextIO\n",
    "with open('./abc33.text', 'a') as file: # Append Mode can Create file and also append text to the same first line\n",
    "    file.write('Pakistan Zinda Abad')"
   ]
  },
  {
   "cell_type": "code",
   "execution_count": 40,
   "metadata": {},
   "outputs": [
    {
     "ename": "FileExistsError",
     "evalue": "[Errno 17] File exists: './abc3343.text'",
     "output_type": "error",
     "traceback": [
      "\u001b[0;31m---------------------------------------------------------------------------\u001b[0m",
      "\u001b[0;31mFileExistsError\u001b[0m                           Traceback (most recent call last)",
      "Cell \u001b[0;32mIn [40], line 2\u001b[0m\n\u001b[1;32m      1\u001b[0m \u001b[38;5;28;01mfrom\u001b[39;00m \u001b[38;5;21;01mtyping\u001b[39;00m \u001b[38;5;28;01mimport\u001b[39;00m TextIO\n\u001b[0;32m----> 2\u001b[0m \u001b[38;5;28;01mwith\u001b[39;00m \u001b[38;5;28;43mopen\u001b[39;49m\u001b[43m(\u001b[49m\u001b[38;5;124;43m'\u001b[39;49m\u001b[38;5;124;43m./abc3343.text\u001b[39;49m\u001b[38;5;124;43m'\u001b[39;49m\u001b[43m,\u001b[49m\u001b[43m \u001b[49m\u001b[38;5;124;43m'\u001b[39;49m\u001b[38;5;124;43mx\u001b[39;49m\u001b[38;5;124;43m'\u001b[39;49m\u001b[43m)\u001b[49m \u001b[38;5;28;01mas\u001b[39;00m file: \u001b[38;5;66;03m# Append Mode can Create file and also append text to the same first line\u001b[39;00m\n\u001b[1;32m      3\u001b[0m     file\u001b[38;5;241m.\u001b[39mwrite(\u001b[38;5;124m'\u001b[39m\u001b[38;5;124mPakistan Zinda Abad\u001b[39m\u001b[38;5;124m'\u001b[39m)\n",
      "\u001b[0;31mFileExistsError\u001b[0m: [Errno 17] File exists: './abc3343.text'"
     ]
    }
   ],
   "source": [
    "from typing import TextIO\n",
    "with open('./abc3343.text', 'x') as file: # X Mode onlny create file first time cannot create angain and again\n",
    "    file.write('Pakistan Zinda Abad')"
   ]
  },
  {
   "cell_type": "code",
   "execution_count": null,
   "metadata": {},
   "outputs": [],
   "source": [
    "from typing import TextIO\n",
    "with open('./abc33.text', 'a') as file: # Append Mode can Create file and also append text to the same first line\n",
    "    file.write('Pakistan Zinda Abad')"
   ]
  },
  {
   "cell_type": "markdown",
   "metadata": {},
   "source": [
    "<div class=\"s-table-container\">\n",
    "<table class=\"s-table\">\n",
    "<thead>\n",
    "<tr>\n",
    "<th style=\"text-align: center;\">Mode</th>\n",
    "<th style=\"text-align: center;\">r</th>\n",
    "<th style=\"text-align: center;\">r+</th>\n",
    "<th style=\"text-align: center;\">w</th>\n",
    "<th style=\"text-align: center;\">w+</th>\n",
    "<th style=\"text-align: center;\">a</th>\n",
    "<th style=\"text-align: center;\">a+</th>\n",
    "</tr>\n",
    "</thead>\n",
    "<tbody>\n",
    "<tr>\n",
    "<td style=\"text-align: center;\">Read</td>\n",
    "<td style=\"text-align: center;\">+</td>\n",
    "<td style=\"text-align: center;\">+</td>\n",
    "<td style=\"text-align: center;\"></td>\n",
    "<td style=\"text-align: center;\">+</td>\n",
    "<td style=\"text-align: center;\"></td>\n",
    "<td style=\"text-align: center;\">+</td>\n",
    "</tr>\n",
    "<tr>\n",
    "<td style=\"text-align: center;\">Write</td>\n",
    "<td style=\"text-align: center;\"></td>\n",
    "<td style=\"text-align: center;\">+</td>\n",
    "<td style=\"text-align: center;\">+</td>\n",
    "<td style=\"text-align: center;\">+</td>\n",
    "<td style=\"text-align: center;\">+</td>\n",
    "<td style=\"text-align: center;\">+</td>\n",
    "</tr>\n",
    "<tr>\n",
    "<td style=\"text-align: center;\">Create</td>\n",
    "<td style=\"text-align: center;\"></td>\n",
    "<td style=\"text-align: center;\"></td>\n",
    "<td style=\"text-align: center;\">+</td>\n",
    "<td style=\"text-align: center;\">+</td>\n",
    "<td style=\"text-align: center;\">+</td>\n",
    "<td style=\"text-align: center;\">+</td>\n",
    "</tr>\n",
    "<tr>\n",
    "<td style=\"text-align: center;\">Cover</td>\n",
    "<td style=\"text-align: center;\"></td>\n",
    "<td style=\"text-align: center;\"></td>\n",
    "<td style=\"text-align: center;\">+</td>\n",
    "<td style=\"text-align: center;\">+</td>\n",
    "<td style=\"text-align: center;\"></td>\n",
    "<td style=\"text-align: center;\"></td>\n",
    "</tr>\n",
    "<tr>\n",
    "<td style=\"text-align: center;\">Point in the beginning</td>\n",
    "<td style=\"text-align: center;\">+</td>\n",
    "<td style=\"text-align: center;\">+</td>\n",
    "<td style=\"text-align: center;\">+</td>\n",
    "<td style=\"text-align: center;\">+</td>\n",
    "<td style=\"text-align: center;\"></td>\n",
    "<td style=\"text-align: center;\"></td>\n",
    "</tr>\n",
    "<tr>\n",
    "<td style=\"text-align: center;\">Point in the end</td>\n",
    "<td style=\"text-align: center;\"></td>\n",
    "<td style=\"text-align: center;\"></td>\n",
    "<td style=\"text-align: center;\"></td>\n",
    "<td style=\"text-align: center;\"></td>\n",
    "<td style=\"text-align: center;\">+</td>\n",
    "<td style=\"text-align: center;\">+</td>\n",
    "</tr>\n",
    "</tbody>\n",
    "</table>\n",
    "</div>"
   ]
  },
  {
   "cell_type": "markdown",
   "metadata": {},
   "source": [
    "# Read from Real World Files\n",
    "* image\n",
    "* csv\n",
    "* pdf\n",
    "* camera\n"
   ]
  },
  {
   "cell_type": "code",
   "execution_count": 44,
   "metadata": {},
   "outputs": [
    {
     "data": {
      "text/html": [
       "<div>\n",
       "<style scoped>\n",
       "    .dataframe tbody tr th:only-of-type {\n",
       "        vertical-align: middle;\n",
       "    }\n",
       "\n",
       "    .dataframe tbody tr th {\n",
       "        vertical-align: top;\n",
       "    }\n",
       "\n",
       "    .dataframe thead th {\n",
       "        text-align: right;\n",
       "    }\n",
       "</style>\n",
       "<table border=\"1\" class=\"dataframe\">\n",
       "  <thead>\n",
       "    <tr style=\"text-align: right;\">\n",
       "      <th></th>\n",
       "      <th>Month</th>\n",
       "      <th>\"Average\"</th>\n",
       "      <th>\"2005\"</th>\n",
       "      <th>\"2006\"</th>\n",
       "      <th>\"2007\"</th>\n",
       "      <th>\"2008\"</th>\n",
       "      <th>\"2009\"</th>\n",
       "      <th>\"2010\"</th>\n",
       "      <th>\"2011\"</th>\n",
       "      <th>\"2012\"</th>\n",
       "      <th>\"2013\"</th>\n",
       "      <th>\"2014\"</th>\n",
       "      <th>\"2015\"</th>\n",
       "    </tr>\n",
       "  </thead>\n",
       "  <tbody>\n",
       "    <tr>\n",
       "      <th>0</th>\n",
       "      <td>May</td>\n",
       "      <td>0.1</td>\n",
       "      <td>0</td>\n",
       "      <td>0</td>\n",
       "      <td>1</td>\n",
       "      <td>1</td>\n",
       "      <td>0</td>\n",
       "      <td>0</td>\n",
       "      <td>0</td>\n",
       "      <td>2</td>\n",
       "      <td>0</td>\n",
       "      <td>0</td>\n",
       "      <td>0</td>\n",
       "    </tr>\n",
       "    <tr>\n",
       "      <th>1</th>\n",
       "      <td>Jun</td>\n",
       "      <td>0.5</td>\n",
       "      <td>2</td>\n",
       "      <td>1</td>\n",
       "      <td>1</td>\n",
       "      <td>0</td>\n",
       "      <td>0</td>\n",
       "      <td>1</td>\n",
       "      <td>1</td>\n",
       "      <td>2</td>\n",
       "      <td>2</td>\n",
       "      <td>0</td>\n",
       "      <td>1</td>\n",
       "    </tr>\n",
       "    <tr>\n",
       "      <th>2</th>\n",
       "      <td>Jul</td>\n",
       "      <td>0.7</td>\n",
       "      <td>5</td>\n",
       "      <td>1</td>\n",
       "      <td>1</td>\n",
       "      <td>2</td>\n",
       "      <td>0</td>\n",
       "      <td>1</td>\n",
       "      <td>3</td>\n",
       "      <td>0</td>\n",
       "      <td>2</td>\n",
       "      <td>2</td>\n",
       "      <td>1</td>\n",
       "    </tr>\n",
       "    <tr>\n",
       "      <th>3</th>\n",
       "      <td>Aug</td>\n",
       "      <td>2.3</td>\n",
       "      <td>6</td>\n",
       "      <td>3</td>\n",
       "      <td>2</td>\n",
       "      <td>4</td>\n",
       "      <td>4</td>\n",
       "      <td>4</td>\n",
       "      <td>7</td>\n",
       "      <td>8</td>\n",
       "      <td>2</td>\n",
       "      <td>2</td>\n",
       "      <td>3</td>\n",
       "    </tr>\n",
       "    <tr>\n",
       "      <th>4</th>\n",
       "      <td>Sep</td>\n",
       "      <td>3.5</td>\n",
       "      <td>6</td>\n",
       "      <td>4</td>\n",
       "      <td>7</td>\n",
       "      <td>4</td>\n",
       "      <td>2</td>\n",
       "      <td>8</td>\n",
       "      <td>5</td>\n",
       "      <td>2</td>\n",
       "      <td>5</td>\n",
       "      <td>2</td>\n",
       "      <td>5</td>\n",
       "    </tr>\n",
       "    <tr>\n",
       "      <th>5</th>\n",
       "      <td>Oct</td>\n",
       "      <td>2.0</td>\n",
       "      <td>8</td>\n",
       "      <td>0</td>\n",
       "      <td>1</td>\n",
       "      <td>3</td>\n",
       "      <td>2</td>\n",
       "      <td>5</td>\n",
       "      <td>1</td>\n",
       "      <td>5</td>\n",
       "      <td>2</td>\n",
       "      <td>3</td>\n",
       "      <td>0</td>\n",
       "    </tr>\n",
       "    <tr>\n",
       "      <th>6</th>\n",
       "      <td>Nov</td>\n",
       "      <td>0.5</td>\n",
       "      <td>3</td>\n",
       "      <td>0</td>\n",
       "      <td>0</td>\n",
       "      <td>1</td>\n",
       "      <td>1</td>\n",
       "      <td>0</td>\n",
       "      <td>1</td>\n",
       "      <td>0</td>\n",
       "      <td>1</td>\n",
       "      <td>0</td>\n",
       "      <td>1</td>\n",
       "    </tr>\n",
       "    <tr>\n",
       "      <th>7</th>\n",
       "      <td>Dec</td>\n",
       "      <td>0.0</td>\n",
       "      <td>1</td>\n",
       "      <td>0</td>\n",
       "      <td>1</td>\n",
       "      <td>0</td>\n",
       "      <td>0</td>\n",
       "      <td>0</td>\n",
       "      <td>0</td>\n",
       "      <td>0</td>\n",
       "      <td>0</td>\n",
       "      <td>0</td>\n",
       "      <td>1</td>\n",
       "    </tr>\n",
       "  </tbody>\n",
       "</table>\n",
       "</div>"
      ],
      "text/plain": [
       "  Month   \"Average\"   \"2005\"   \"2006\"   \"2007\"   \"2008\"   \"2009\"   \"2010\"  \\\n",
       "0   May         0.1        0        0        1        1        0        0   \n",
       "1   Jun         0.5        2        1        1        0        0        1   \n",
       "2   Jul         0.7        5        1        1        2        0        1   \n",
       "3   Aug         2.3        6        3        2        4        4        4   \n",
       "4   Sep         3.5        6        4        7        4        2        8   \n",
       "5   Oct         2.0        8        0        1        3        2        5   \n",
       "6   Nov         0.5        3        0        0        1        1        0   \n",
       "7   Dec         0.0        1        0        1        0        0        0   \n",
       "\n",
       "    \"2011\"   \"2012\"   \"2013\"   \"2014\"   \"2015\"  \n",
       "0        0        2        0        0        0  \n",
       "1        1        2        2        0        1  \n",
       "2        3        0        2        2        1  \n",
       "3        7        8        2        2        3  \n",
       "4        5        2        5        2        5  \n",
       "5        1        5        2        3        0  \n",
       "6        1        0        1        0        1  \n",
       "7        0        0        0        0        1  "
      ]
     },
     "execution_count": 44,
     "metadata": {},
     "output_type": "execute_result"
    }
   ],
   "source": [
    "import pandas as pd\n",
    "df : pd.DataFrame = pd.read_csv('./file_us.csv')\n",
    "df"
   ]
  },
  {
   "cell_type": "code",
   "execution_count": 45,
   "metadata": {},
   "outputs": [
    {
     "data": {
      "text/html": [
       "<div>\n",
       "<style scoped>\n",
       "    .dataframe tbody tr th:only-of-type {\n",
       "        vertical-align: middle;\n",
       "    }\n",
       "\n",
       "    .dataframe tbody tr th {\n",
       "        vertical-align: top;\n",
       "    }\n",
       "\n",
       "    .dataframe thead th {\n",
       "        text-align: right;\n",
       "    }\n",
       "</style>\n",
       "<table border=\"1\" class=\"dataframe\">\n",
       "  <thead>\n",
       "    <tr style=\"text-align: right;\">\n",
       "      <th></th>\n",
       "      <th>id</th>\n",
       "      <th>name</th>\n",
       "      <th>fname</th>\n",
       "    </tr>\n",
       "  </thead>\n",
       "  <tbody>\n",
       "    <tr>\n",
       "      <th>0</th>\n",
       "      <td>1</td>\n",
       "      <td>s</td>\n",
       "      <td>q</td>\n",
       "    </tr>\n",
       "    <tr>\n",
       "      <th>1</th>\n",
       "      <td>2</td>\n",
       "      <td>d</td>\n",
       "      <td>w</td>\n",
       "    </tr>\n",
       "    <tr>\n",
       "      <th>2</th>\n",
       "      <td>3</td>\n",
       "      <td>f</td>\n",
       "      <td>e</td>\n",
       "    </tr>\n",
       "    <tr>\n",
       "      <th>3</th>\n",
       "      <td>4</td>\n",
       "      <td>g</td>\n",
       "      <td>r</td>\n",
       "    </tr>\n",
       "    <tr>\n",
       "      <th>4</th>\n",
       "      <td>5</td>\n",
       "      <td>h</td>\n",
       "      <td>t</td>\n",
       "    </tr>\n",
       "    <tr>\n",
       "      <th>5</th>\n",
       "      <td>6</td>\n",
       "      <td>j</td>\n",
       "      <td>y</td>\n",
       "    </tr>\n",
       "  </tbody>\n",
       "</table>\n",
       "</div>"
      ],
      "text/plain": [
       "   id name fname\n",
       "0   1    s     q\n",
       "1   2    d     w\n",
       "2   3    f     e\n",
       "3   4    g     r\n",
       "4   5    h     t\n",
       "5   6    j     y"
      ]
     },
     "execution_count": 45,
     "metadata": {},
     "output_type": "execute_result"
    }
   ],
   "source": [
    "import pandas as pd\n",
    "df : pd.DataFrame = pd.read_excel('./xlfile.xlsx')\n",
    "df"
   ]
  },
  {
   "cell_type": "code",
   "execution_count": 47,
   "metadata": {},
   "outputs": [
    {
     "data": {
      "text/plain": [
       "<matplotlib.image.AxesImage at 0x7fdec713cad0>"
      ]
     },
     "execution_count": 47,
     "metadata": {},
     "output_type": "execute_result"
    },
    {
     "data": {
      "image/png": "[encoded data removed]",
      "text/plain": [
       "<Figure size 640x480 with 1 Axes>"
      ]
     },
     "metadata": {},
     "output_type": "display_data"
    }
   ],
   "source": [
    "import matplotlib.pyplot as mt\n",
    "import matplotlib.image as image\n",
    "\n",
    "img = image.imread(\"./img_python.jpeg\")\n",
    "mt.imshow(img)\n"
   ]
  },
  {
   "cell_type": "code",
   "execution_count": null,
   "metadata": {},
   "outputs": [],
   "source": []
  }
 ],
 "metadata": {
  "kernelspec": {
   "display_name": "Python 3",
   "language": "python",
   "name": "python3"
  },
  "language_info": {
   "codemirror_mode": {
    "name": "ipython",
    "version": 3
   },
   "file_extension": ".py",
   "mimetype": "text/x-python",
   "name": "python",
   "nbconvert_exporter": "python",
   "pygments_lexer": "ipython3",
   "version": "3.11.2"
  }
 },
 "nbformat": 4,
 "nbformat_minor": 2
}
