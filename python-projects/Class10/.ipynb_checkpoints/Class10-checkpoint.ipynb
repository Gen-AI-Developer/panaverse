{
 "cells": [
  {
   "cell_type": "markdown",
   "metadata": {},
   "source": [
    "# Function\n",
    "* pre-definded function\n",
    "    * provided by Python\n",
    "* User-defined function\n",
    "    * custom function\n",
    "# return and none-return function\n",
    "* Return\n",
    "    *  we can asign the return value to a varibale\n",
    "* None-Return\n",
    "    *  we can't save\n",
    "# Components\n",
    "* function declaration\n",
    "* funcation body\n",
    "* functiona calling\n",
    "\n",
    "'''\n",
    "def funtion_name(argv):\n",
    "    Body_of-fucnciton\n",
    "'''\n",
    "\n",
    "calling\n",
    "\n",
    "funcatin_name(argv)"
   ]
  },
  {
   "cell_type": "code",
   "execution_count": 1,
   "metadata": {},
   "outputs": [
    {
     "name": "stdout",
     "output_type": "stream",
     "text": [
      "pakistan\n",
      "None\n"
     ]
    }
   ],
   "source": [
    "# function return\n",
    "a :str = print(\"pakistan\")\n",
    "print(a)"
   ]
  },
  {
   "cell_type": "code",
   "execution_count": 2,
   "metadata": {},
   "outputs": [
    {
     "name": "stdout",
     "output_type": "stream",
     "text": [
      "8\n"
     ]
    }
   ],
   "source": [
    "# function return\n",
    "a :str = len(\"pakistan\")\n",
    "print(a)"
   ]
  },
  {
   "cell_type": "code",
   "execution_count": 5,
   "metadata": {},
   "outputs": [
    {
     "name": "stdout",
     "output_type": "stream",
     "text": [
      "this a functin\n",
      "this a functin\n",
      "this a functin\n",
      "this a functin\n"
     ]
    }
   ],
   "source": [
    "def kkk()-> None:\n",
    "    print('this a functin')\n",
    "    print('this a functin')\n",
    "    print('this a functin')\n",
    "    print('this a functin')\n",
    "kkk()"
   ]
  },
  {
   "cell_type": "code",
   "execution_count": 6,
   "metadata": {},
   "outputs": [
    {
     "name": "stdout",
     "output_type": "stream",
     "text": [
      "this a functin\n",
      "this a functin\n",
      "this a functin\n",
      "this a functin\n"
     ]
    }
   ],
   "source": [
    "kkk()"
   ]
  },
  {
   "cell_type": "markdown",
   "metadata": {},
   "source": [
    "# function with Optional Parameters"
   ]
  },
  {
   "cell_type": "code",
   "execution_count": 7,
   "metadata": {},
   "outputs": [],
   "source": [
    "def add_two_numbers(a:int,b:int)->int:\n",
    "    return(print(a+b))"
   ]
  },
  {
   "cell_type": "code",
   "execution_count": 8,
   "metadata": {},
   "outputs": [
    {
     "name": "stdout",
     "output_type": "stream",
     "text": [
      "17\n"
     ]
    }
   ],
   "source": [
    "add_two_numbers(13,4)"
   ]
  },
  {
   "cell_type": "markdown",
   "metadata": {},
   "source": [
    "# Syntac of lambda function\n",
    "* one line function\n",
    "* without name\n",
    "* only used one time"
   ]
  },
  {
   "cell_type": "code",
   "execution_count": 12,
   "metadata": {},
   "outputs": [
    {
     "name": "stdout",
     "output_type": "stream",
     "text": [
      "7\n"
     ]
    }
   ],
   "source": [
    "x=lambda i,k : print(i+k)\n",
    "x(3,4)"
   ]
  },
  {
   "cell_type": "code",
   "execution_count": 15,
   "metadata": {},
   "outputs": [
    {
     "data": {
      "text/plain": [
       "[1, 4, 9, 16, 25, 36, 49, 64, 81, 100]"
      ]
     },
     "metadata": {},
     "output_type": "display_data"
    }
   ],
   "source": [
    "data : list[int]=[1,2,3,4,5,6,7,8,9,10]\n",
    "data = list(map(lambda x:x**2, data))\n",
    "display(data)"
   ]
  },
  {
   "cell_type": "code",
   "execution_count": 17,
   "metadata": {},
   "outputs": [
    {
     "data": {
      "text/plain": [
       "[2, 4, 6, 8, 10]"
      ]
     },
     "metadata": {},
     "output_type": "display_data"
    }
   ],
   "source": [
    "data : list[int]=[1,2,3,4,5,6,7,8,9,10]\n",
    "data = list(filter(lambda x:x%2==0, data))\n",
    "display(data)"
   ]
  },
  {
   "cell_type": "markdown",
   "metadata": {},
   "source": [
    "# Type Hinting in Lambda with Callables"
   ]
  },
  {
   "cell_type": "code",
   "execution_count": 1,
   "metadata": {},
   "outputs": [
    {
     "name": "stdout",
     "output_type": "stream",
     "text": [
      "0.5\n"
     ]
    }
   ],
   "source": [
    "from typing import Callable\n",
    "add: Callable[[int,int],int] = lambda x,y: x/y\n",
    "result= add(10,20)\n",
    "print(result)"
   ]
  },
  {
   "cell_type": "markdown",
   "metadata": {},
   "source": [
    "# Generative Functions"
   ]
  },
  {
   "cell_type": "markdown",
   "metadata": {},
   "source": []
  }
 ],
 "metadata": {
  "kernelspec": {
   "display_name": "Python 3 (ipykernel)",
   "language": "python",
   "name": "python3"
  },
  "language_info": {
   "codemirror_mode": {
    "name": "ipython",
    "version": 3
   },
   "file_extension": ".py",
   "mimetype": "text/x-python",
   "name": "python",
   "nbconvert_exporter": "python",
   "pygments_lexer": "ipython3",
   "version": "3.10.12"
  }
 },
 "nbformat": 4,
 "nbformat_minor": 4
}
