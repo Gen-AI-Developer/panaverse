{
 "cells": [
  {
   "cell_type": "markdown",
   "metadata": {},
   "source": [
    "# Function\n",
    "* pre-definded function\n",
    "    * provided by Python\n",
    "* User-defined function\n",
    "    * custom function\n",
    "# return and none-return function\n",
    "* Return\n",
    "    *  we can asign the return value to a varibale\n",
    "* None-Return\n",
    "    *  we can't save\n",
    "# Components\n",
    "* function declaration\n",
    "* funcation body\n",
    "* functiona calling\n",
    "\n",
    "'''\n",
    "def funtion_name(argv):\n",
    "    Body_of-fucnciton\n",
    "'''\n",
    "\n",
    "calling\n",
    "\n",
    "funcatin_name(argv)"
   ]
  },
  {
   "cell_type": "code",
   "execution_count": 1,
   "metadata": {},
   "outputs": [
    {
     "name": "stdout",
     "output_type": "stream",
     "text": [
      "pakistan\n",
      "None\n"
     ]
    }
   ],
   "source": [
    "# function return\n",
    "a :str = print(\"pakistan\")\n",
    "print(a)"
   ]
  },
  {
   "cell_type": "code",
   "execution_count": 2,
   "metadata": {},
   "outputs": [
    {
     "name": "stdout",
     "output_type": "stream",
     "text": [
      "8\n"
     ]
    }
   ],
   "source": [
    "# function return\n",
    "a :str = len(\"pakistan\")\n",
    "print(a)"
   ]
  },
  {
   "cell_type": "code",
   "execution_count": 5,
   "metadata": {},
   "outputs": [
    {
     "name": "stdout",
     "output_type": "stream",
     "text": [
      "this a functin\n",
      "this a functin\n",
      "this a functin\n",
      "this a functin\n"
     ]
    }
   ],
   "source": [
    "def kkk()-> None:\n",
    "    print('this a functin')\n",
    "    print('this a functin')\n",
    "    print('this a functin')\n",
    "    print('this a functin')\n",
    "kkk()"
   ]
  },
  {
   "cell_type": "code",
   "execution_count": 6,
   "metadata": {},
   "outputs": [
    {
     "name": "stdout",
     "output_type": "stream",
     "text": [
      "this a functin\n",
      "this a functin\n",
      "this a functin\n",
      "this a functin\n"
     ]
    }
   ],
   "source": [
    "kkk()"
   ]
  },
  {
   "cell_type": "markdown",
   "metadata": {},
   "source": [
    "# function with Optional Parameters"
   ]
  },
  {
   "cell_type": "code",
   "execution_count": 7,
   "metadata": {},
   "outputs": [],
   "source": [
    "def add_two_numbers(a:int,b:int)->int:\n",
    "    return(print(a+b))"
   ]
  },
  {
   "cell_type": "code",
   "execution_count": 8,
   "metadata": {},
   "outputs": [
    {
     "name": "stdout",
     "output_type": "stream",
     "text": [
      "17\n"
     ]
    }
   ],
   "source": [
    "add_two_numbers(13,4)"
   ]
  },
  {
   "cell_type": "markdown",
   "metadata": {},
   "source": [
    "# Syntac of lambda function\n",
    "* one line function\n",
    "* without name\n",
    "* only used one time"
   ]
  },
  {
   "cell_type": "code",
   "execution_count": 12,
   "metadata": {},
   "outputs": [
    {
     "name": "stdout",
     "output_type": "stream",
     "text": [
      "7\n"
     ]
    }
   ],
   "source": [
    "x=lambda i,k : print(i+k)\n",
    "x(3,4)"
   ]
  },
  {
   "cell_type": "code",
   "execution_count": 15,
   "metadata": {},
   "outputs": [
    {
     "data": {
      "text/plain": [
       "[1, 4, 9, 16, 25, 36, 49, 64, 81, 100]"
      ]
     },
     "metadata": {},
     "output_type": "display_data"
    }
   ],
   "source": [
    "data : list[int]=[1,2,3,4,5,6,7,8,9,10]\n",
    "data = list(map(lambda x:x**2, data))\n",
    "display(data)"
   ]
  },
  {
   "cell_type": "code",
   "execution_count": 17,
   "metadata": {},
   "outputs": [
    {
     "data": {
      "text/plain": [
       "[2, 4, 6, 8, 10]"
      ]
     },
     "metadata": {},
     "output_type": "display_data"
    }
   ],
   "source": [
    "data : list[int]=[1,2,3,4,5,6,7,8,9,10]\n",
    "data = list(filter(lambda x:x%2==0, data))\n",
    "display(data)"
   ]
  },
  {
   "cell_type": "markdown",
   "metadata": {},
   "source": [
    "# Type Hinting in Lambda with Callables"
   ]
  },
  {
   "cell_type": "code",
   "execution_count": 1,
   "metadata": {},
   "outputs": [
    {
     "name": "stdout",
     "output_type": "stream",
     "text": [
      "0.5\n"
     ]
    }
   ],
   "source": [
    "from typing import Callable\n",
    "add: Callable[[int,int],int] = lambda x,y: x/y\n",
    "result= add(10,20)\n",
    "print(result)"
   ]
  },
  {
   "cell_type": "markdown",
   "metadata": {},
   "source": [
    "# Generative Functions"
   ]
  },
  {
   "cell_type": "markdown",
   "metadata": {},
   "source": [
    "* Generate Funcation\n",
    "* irterate on element ob by one\n",
    "* stop after each iteration \n",
    "* remeber old iteration value (last iterate value)\n",
    "* next iterative\n",
    "   * go farward from last iterate value"
   ]
  },
  {
   "cell_type": "code",
   "execution_count": 2,
   "metadata": {},
   "outputs": [
    {
     "name": "stdout",
     "output_type": "stream",
     "text": [
      "<generator object my_range at 0x7f65f9fa80b0>\n",
      "[1, 2, 3, 4, 5, 6, 7, 8, 9, 10]\n"
     ]
    }
   ],
   "source": [
    "def my_range(start:int, end:int, step:int):\n",
    "    for i in range(start,end+1,step):\n",
    "        yield i # Generate Function\n",
    "a = my_range(1,10,1)\n",
    "print(a)\n",
    "print(list(a))\n"
   ]
  },
  {
   "cell_type": "code",
   "execution_count": 4,
   "metadata": {},
   "outputs": [
    {
     "name": "stdout",
     "output_type": "stream",
     "text": [
      "<generator object my_range at 0x7f65f9fa8890>\n",
      "1\n",
      "2\n",
      "3\n",
      "4\n",
      "5\n",
      "6\n",
      "7\n",
      "8\n"
     ]
    }
   ],
   "source": [
    "a = my_range(1,10,1)\n",
    "print(a)\n",
    "print(next(a))\n",
    "print(next(a))\n",
    "print(next(a))\n",
    "print(next(a))\n",
    "print(next(a))\n",
    "print(next(a))\n",
    "print(next(a))\n",
    "print(next(a))"
   ]
  },
  {
   "cell_type": "code",
   "execution_count": 8,
   "metadata": {},
   "outputs": [
    {
     "name": "stdout",
     "output_type": "stream",
     "text": [
      "0.5\n",
      "1.0\n",
      "<class 'generator'>\n"
     ]
    }
   ],
   "source": [
    "from collections.abc import Iterable\n",
    "\n",
    "def my_range(start:int, end:int, step:int)->Iterable[int]:\n",
    "    for i in range(start,end+1,step):\n",
    "        yield i/2 # Generate Function\n",
    "a : Iterable[int] = my_range(1,10,1)\n",
    "print(next(a))\n",
    "print(next(a))\n",
    "print(type(a))"
   ]
  },
  {
   "cell_type": "markdown",
   "metadata": {},
   "source": [
    "# Pass unlimited Arguments\n",
    "\n"
   ]
  },
  {
   "cell_type": "code",
   "execution_count": 9,
   "metadata": {},
   "outputs": [
    {
     "name": "stdout",
     "output_type": "stream",
     "text": [
      "(1, 2, 3, 4, 5, 6, 7) <class 'tuple'>\n"
     ]
    }
   ],
   "source": [
    "def unlimited_args(*nums):\n",
    "    print(nums,type(nums))\n",
    "\n",
    "unlimited_args(1,2,3,4,5,6,7)"
   ]
  },
  {
   "cell_type": "markdown",
   "metadata": {},
   "source": [
    "# Passing Unlimited Keyword Argument"
   ]
  },
  {
   "cell_type": "code",
   "execution_count": 10,
   "metadata": {},
   "outputs": [
    {
     "name": "stdout",
     "output_type": "stream",
     "text": [
      "{'a': 1, 'b': 2, 'c': 34, 'df': 343, 'dfe': 345, 'du_df': 345} <class 'dict'>\n"
     ]
    }
   ],
   "source": [
    "def abcd(**kargs):\n",
    "    print(kargs, type(kargs))\n",
    "abcd(a=1,b=2,c=34,df=343,dfe=345,du_df=345)"
   ]
  },
  {
   "cell_type": "markdown",
   "metadata": {},
   "source": [
    "# Decorator Function"
   ]
  },
  {
   "cell_type": "code",
   "execution_count": 11,
   "metadata": {},
   "outputs": [
    {
     "name": "stdout",
     "output_type": "stream",
     "text": [
      "Something is happenning before the function is called\n",
      "helloePakistan\n",
      "Something is happenning after the function is called\n"
     ]
    }
   ],
   "source": [
    "from typing import Callable\n",
    "def my_decorator(func:Callable[[],None])->Callable[[],None]:\n",
    "    def wrapper():\n",
    "        print(\"Something is happenning before the function is called\")\n",
    "        func()\n",
    "        print(\"Something is happenning after the function is called\")\n",
    "    return wrapper\n",
    "@my_decorator\n",
    "def say_hello():\n",
    "    print(\"helloePakistan\")\n",
    "\n",
    "say_hello()"
   ]
  },
  {
   "cell_type": "code",
   "execution_count": 17,
   "metadata": {},
   "outputs": [
    {
     "name": "stdout",
     "output_type": "stream",
     "text": [
      "Something is happenning before the function is called\n",
      "PakistanPakistanPakistanPakistanPakistanPakistanPakistanPakistanPakistanPakistan\n",
      "Something is happenning after the function is called\n"
     ]
    }
   ],
   "source": [
    "from typing import Callable\n",
    "def my_decorator(func:Callable[[int],int])->Callable[[int],int]:\n",
    "    def wrapper(num1:int):\n",
    "        print(\"Something is happenning before the function is called\")\n",
    "        func(num1)\n",
    "        print(\"Something is happenning after the function is called\")\n",
    "    return wrapper\n",
    "@my_decorator\n",
    "def say_hello(a:int)-> None:\n",
    "    print(f'Pakistan'*a)\n",
    "\n",
    "say_hello(10)"
   ]
  },
  {
   "cell_type": "markdown",
   "metadata": {},
   "source": [
    "# Recursive Functions"
   ]
  },
  {
   "cell_type": "code",
   "execution_count": 18,
   "metadata": {},
   "outputs": [
    {
     "name": "stdout",
     "output_type": "stream",
     "text": [
      "the factorial of 5 is 120\n"
     ]
    }
   ],
   "source": [
    "def fact(x:int)-> int:\n",
    "    if x == 1:\n",
    "        return 1\n",
    "    else:\n",
    "        return (x * fact(x-1))\n",
    "num  = 5\n",
    "print(f'the factorial of {num} is {fact(num)}')"
   ]
  },
  {
   "cell_type": "code",
   "execution_count": null,
   "metadata": {},
   "outputs": [],
   "source": []
  }
 ],
 "metadata": {
  "kernelspec": {
   "display_name": "Python 3 (ipykernel)",
   "language": "python",
   "name": "python3"
  },
  "language_info": {
   "codemirror_mode": {
    "name": "ipython",
    "version": 3
   },
   "file_extension": ".py",
   "mimetype": "text/x-python",
   "name": "python",
   "nbconvert_exporter": "python",
   "pygments_lexer": "ipython3",
   "version": "3.10.12"
  }
 },
 "nbformat": 4,
 "nbformat_minor": 4
}
