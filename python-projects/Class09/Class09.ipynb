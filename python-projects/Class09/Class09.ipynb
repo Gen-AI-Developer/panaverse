{
 "cells": [
  {
   "cell_type": "markdown",
   "metadata": {},
   "source": [
    "# Class 09"
   ]
  },
  {
   "cell_type": "markdown",
   "metadata": {},
   "source": [
    "# Loops and Input from User\n",
    "* while\n",
    "* for\n",
    "* controls\n",
    "    * break\n",
    "    * continue\n",
    "    * pass\n",
    "* input with input function\n",
    "* inout from console\n",
    "\n",
    "# Loops working  on iterative Data Type\n",
    "* list\n",
    "* distionary\n",
    "* tuple\n",
    "* string"
   ]
  },
  {
   "cell_type": "code",
   "execution_count": 1,
   "metadata": {},
   "outputs": [
    {
     "name": "stdout",
     "output_type": "stream",
     "text": [
      "[1, 2, 3, 4, 5, 6]\n"
     ]
    }
   ],
   "source": [
    "l1 : list[int] = [1,2,3,4,5,6]\n",
    "print(l1)"
   ]
  },
  {
   "cell_type": "code",
   "execution_count": 8,
   "metadata": {},
   "outputs": [
    {
     "name": "stdout",
     "output_type": "stream",
     "text": [
      "* name of the candidate  = Safdar Ali Shah\n",
      "* fname of the candidate  = Ghafoor Shah\n",
      "* weight of the candidate  = 80kg\n",
      "* Education of the candidate  = Ms Data Science\n",
      "* Location of the candidate  = Italy\n"
     ]
    }
   ],
   "source": [
    "from typing import Dict\n",
    "data : Dict[str,str] = {\n",
    "    'name':'Safdar Ali Shah',\n",
    "    'fname':'Ghafoor Shah',\n",
    "    'weight':'80kg',\n",
    "    'Education':'Ms Data Science',\n",
    "    'Location':'Italy',\n",
    "}\n",
    "\n",
    "#display(data)\n",
    "\n",
    "for k in data:\n",
    "    print(f'* {k} of the candidate  = {data[k]}')"
   ]
  },
  {
   "cell_type": "markdown",
   "metadata": {},
   "source": [
    "# sets are not iterable"
   ]
  },
  {
   "cell_type": "code",
   "execution_count": 11,
   "metadata": {},
   "outputs": [
    {
     "name": "stdout",
     "output_type": "stream",
     "text": [
      "1\n",
      "2\n",
      "3\n",
      "4\n",
      "5\n",
      "6\n",
      "7\n",
      "8\n",
      "9\n",
      "10\n"
     ]
    }
   ],
   "source": [
    "l1 : list[set[int]] = list({1,2,3,4,5,6,7,8,9,10})\n",
    "for i in l1:\n",
    "    print(i)"
   ]
  },
  {
   "cell_type": "markdown",
   "metadata": {},
   "source": [
    "# input from User\n",
    "* input function\n",
    "    * default type of data in input function will always be sting\n",
    "* sys.argv ( from console input from abc.py file )\n",
    "    * default type of data in sys.argv function will always be object\n"
   ]
  },
  {
   "cell_type": "code",
   "execution_count": 12,
   "metadata": {},
   "outputs": [
    {
     "name": "stdout",
     "output_type": "stream",
     "text": [
      "<class 'str'>\n",
      "Welcome Safdar Ali Shah\n"
     ]
    }
   ],
   "source": [
    "name = input(\"Pkease kenter kyour kname = \")\n",
    "print(type(name))\n",
    "print(f'Welcome {name}')"
   ]
  },
  {
   "cell_type": "code",
   "execution_count": null,
   "metadata": {},
   "outputs": [],
   "source": []
  }
 ],
 "metadata": {
  "kernelspec": {
   "display_name": "Python 3",
   "language": "python",
   "name": "python3"
  },
  "language_info": {
   "codemirror_mode": {
    "name": "ipython",
    "version": 3
   },
   "file_extension": ".py",
   "mimetype": "text/x-python",
   "name": "python",
   "nbconvert_exporter": "python",
   "pygments_lexer": "ipython3",
   "version": "3.10.12"
  }
 },
 "nbformat": 4,
 "nbformat_minor": 2
}
