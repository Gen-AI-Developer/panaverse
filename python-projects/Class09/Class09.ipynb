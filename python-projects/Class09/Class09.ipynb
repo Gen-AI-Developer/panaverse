{
 "cells": [
  {
   "cell_type": "markdown",
   "metadata": {},
   "source": [
    "# Class 09"
   ]
  },
  {
   "cell_type": "markdown",
   "metadata": {},
   "source": [
    "# Loops and Input from User\n",
    "* while\n",
    "* for\n",
    "* controls\n",
    "    * break\n",
    "    * continue\n",
    "    * pass\n",
    "* input with input function\n",
    "* inout from console\n",
    "\n",
    "# Loops working  on iterative Data Type\n",
    "* list\n",
    "* distionary\n",
    "* tuple\n",
    "* string"
   ]
  },
  {
   "cell_type": "code",
   "execution_count": 3,
   "metadata": {},
   "outputs": [
    {
     "name": "stdout",
     "output_type": "stream",
     "text": [
      "[1, 2, 3, 4, 5, 6]\n"
     ]
    }
   ],
   "source": [
    "l1 : list[int] = [1,2,3,4,5,6]\n",
    "print(l1)"
   ]
  },
  {
   "cell_type": "code",
   "execution_count": 4,
   "metadata": {},
   "outputs": [
    {
     "name": "stdout",
     "output_type": "stream",
     "text": [
      "* name of the candidate  = Safdar Ali Shah\n",
      "* fname of the candidate  = Ghafoor Shah\n",
      "* weight of the candidate  = 80kg\n",
      "* Education of the candidate  = Ms Data Science\n",
      "* Location of the candidate  = Italy\n"
     ]
    }
   ],
   "source": [
    "from typing import Dict\n",
    "data : Dict[str,str] = {\n",
    "    'name':'Safdar Ali Shah',\n",
    "    'fname':'Ghafoor Shah',\n",
    "    'weight':'80kg',\n",
    "    'Education':'Ms Data Science',\n",
    "    'Location':'Italy',\n",
    "}\n",
    "\n",
    "#display(data)\n",
    "\n",
    "for k in data:\n",
    "    print(f'* {k} of the candidate  = {data[k]}')"
   ]
  },
  {
   "cell_type": "markdown",
   "metadata": {},
   "source": [
    "# sets are not iterable"
   ]
  },
  {
   "cell_type": "code",
   "execution_count": 8,
   "metadata": {},
   "outputs": [
    {
     "name": "stdout",
     "output_type": "stream",
     "text": [
      "1\n",
      "2\n",
      "3\n",
      "4\n",
      "5\n",
      "6\n",
      "7\n",
      "8\n",
      "9\n",
      "10\n"
     ]
    }
   ],
   "source": [
    "l1 : list[set[int]] = list({1,2,3,4,5,6,7,8,9,10})\n",
    "for i in l1:\n",
    "    print(i)"
   ]
  },
  {
   "cell_type": "markdown",
   "metadata": {},
   "source": [
    "# input from User\n",
    "* input function\n",
    "    * default type of data in input function will always be sting\n",
    "* sys.argv ( from console input from abc.py file )\n",
    "    * default type of data in sys.argv function will always be object\n"
   ]
  },
  {
   "cell_type": "code",
   "execution_count": 6,
   "metadata": {},
   "outputs": [
    {
     "name": "stdout",
     "output_type": "stream",
     "text": [
      "<class 'str'>\n",
      "Welcome s\n"
     ]
    }
   ],
   "source": [
    "name = input(\"Pkease kenter kyour kname = \")\n",
    "print(type(name))\n",
    "print(f'Welcome {name}')"
   ]
  },
  {
   "cell_type": "markdown",
   "metadata": {},
   "source": [
    "# Loops \n"
   ]
  },
  {
   "cell_type": "markdown",
   "metadata": {},
   "source": []
  },
  {
   "cell_type": "code",
   "execution_count": 7,
   "metadata": {},
   "outputs": [
    {
     "name": "stdout",
     "output_type": "stream",
     "text": [
      "Enter - Stop - to hault the program\n",
      "[]\n"
     ]
    }
   ],
   "source": [
    "data : list[dict[str:str]] = []\n",
    "flag : bool = True     \n",
    "\n",
    "while flag:\n",
    "    print(\"Enter - Stop - to hault the program\")\n",
    "    name: str = input('Enter Your Name...')\n",
    "    fname:str = input('Enter your Father Name...')\n",
    "    education:str=input('Enter your Education...')\n",
    "    if 'stop' in name or fname or education:\n",
    "        flag=False\n",
    "        break\n",
    "    data.append({'name':name,\n",
    "                'fname':fname,\n",
    "                'education':education})\n",
    "print(data)"
   ]
  },
  {
   "cell_type": "code",
   "execution_count": 9,
   "metadata": {},
   "outputs": [
    {
     "name": "stdout",
     "output_type": "stream",
     "text": [
      "current value of i is 1 \n",
      "current value of i is 2 \n",
      "current value of i is 3 \n",
      "current value of i is 4 \n",
      "current value of i is 5 \n",
      "current value of i is 6 \n",
      "current value of i is 7 \n",
      "current value of i is 8 \n",
      "current value of i is 9 \n",
      "current value of i is 10 \n",
      "current value of i is 11 \n",
      "current value of i is 12 \n",
      "current value of i is 13 \n",
      "current value of i is 14 \n",
      "current value of i is 15 \n",
      "current value of i is 16 \n",
      "current value of i is 17 \n",
      "current value of i is 18 \n",
      "current value of i is 19 \n",
      "current value of i is 20 \n",
      "current value of i is 21 \n",
      "current value of i is 22 \n",
      "current value of i is 23 \n",
      "current value of i is 24 \n",
      "current value of i is 25 \n",
      "current value of i is 26 \n",
      "current value of i is 27 \n",
      "current value of i is 28 \n",
      "current value of i is 29 \n",
      "current value of i is 30 \n",
      "current value of i is 31 \n",
      "current value of i is 32 \n",
      "current value of i is 33 \n",
      "current value of i is 34 \n",
      "current value of i is 35 \n",
      "current value of i is 36 \n",
      "current value of i is 37 \n",
      "current value of i is 38 \n",
      "current value of i is 39 \n",
      "current value of i is 40 \n",
      "current value of i is 41 \n",
      "current value of i is 42 \n",
      "current value of i is 43 \n",
      "current value of i is 44 \n",
      "current value of i is 45 \n",
      "current value of i is 46 \n",
      "current value of i is 47 \n",
      "current value of i is 48 \n",
      "current value of i is 49 \n",
      "current value of i is 50 \n",
      "current value of i is 51 \n",
      "current value of i is 52 \n",
      "current value of i is 53 \n",
      "current value of i is 54 \n",
      "current value of i is 55 \n",
      "Break @ 55\n"
     ]
    }
   ],
   "source": [
    "for i in range(1,100):\n",
    "    print(f'current value of i is {i} ')\n",
    "    if i == 55:\n",
    "\n",
    "        print(\"Break @ 55\")\n",
    "        break"
   ]
  },
  {
   "cell_type": "code",
   "execution_count": 14,
   "metadata": {},
   "outputs": [
    {
     "name": "stdout",
     "output_type": "stream",
     "text": [
      "current value of i is 1 \n",
      "current value of i is 2 \n",
      "current value of i is 3 \n",
      "current value of i is 4 \n",
      "current value of i is 6 \n",
      "current value of i is 7 \n",
      "current value of i is 8 \n",
      "current value of i is 9 \n"
     ]
    }
   ],
   "source": [
    "for i in range(1,10):\n",
    "    if i == 5:\n",
    "        continue\n",
    "    print(f'current value of i is {i} ')\n",
    "\n"
   ]
  },
  {
   "cell_type": "code",
   "execution_count": 16,
   "metadata": {},
   "outputs": [
    {
     "name": "stdout",
     "output_type": "stream",
     "text": [
      "1\n",
      "2\n",
      "3\n",
      "4\n",
      "5\n",
      "6\n",
      "6\n"
     ]
    }
   ],
   "source": [
    "for i in (1,2,3,4,5,6,6):\n",
    "    print(i)"
   ]
  },
  {
   "cell_type": "code",
   "execution_count": null,
   "metadata": {},
   "outputs": [],
   "source": []
  }
 ],
 "metadata": {
  "kernelspec": {
   "display_name": "Python 3",
   "language": "python",
   "name": "python3"
  },
  "language_info": {
   "codemirror_mode": {
    "name": "ipython",
    "version": 3
   },
   "file_extension": ".py",
   "mimetype": "text/x-python",
   "name": "python",
   "nbconvert_exporter": "python",
   "pygments_lexer": "ipython3",
   "version": "3.10.12"
  }
 },
 "nbformat": 4,
 "nbformat_minor": 2
}
