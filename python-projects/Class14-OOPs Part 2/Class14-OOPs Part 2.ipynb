{
 "cells": [
  {
   "cell_type": "code",
   "execution_count": 1,
   "metadata": {},
   "outputs": [
    {
     "data": {
      "text/plain": [
       "['__class__',\n",
       " '__delattr__',\n",
       " '__dict__',\n",
       " '__dir__',\n",
       " '__doc__',\n",
       " '__eq__',\n",
       " '__format__',\n",
       " '__ge__',\n",
       " '__getattribute__',\n",
       " '__getstate__',\n",
       " '__gt__',\n",
       " '__hash__',\n",
       " '__init__',\n",
       " '__init_subclass__',\n",
       " '__le__',\n",
       " '__lt__',\n",
       " '__module__',\n",
       " '__ne__',\n",
       " '__new__',\n",
       " '__reduce__',\n",
       " '__reduce_ex__',\n",
       " '__repr__',\n",
       " '__setattr__',\n",
       " '__sizeof__',\n",
       " '__str__',\n",
       " '__subclasshook__',\n",
       " '__weakref__',\n",
       " 'bodyBuild',\n",
       " 'eye_color',\n",
       " 'name',\n",
       " 'speaking']"
      ]
     },
     "execution_count": 1,
     "metadata": {},
     "output_type": "execute_result"
    }
   ],
   "source": [
    "class Mother:\n",
    "    def __init__(self, name : str) -> None:\n",
    "        self.name = name\n",
    "        self.eye_color = \"Blue\"\n",
    "    def speaking(self, words:str)-> str:\n",
    "        return \"Mother's Speacking Method\"+words\n",
    "\n",
    "class Father:\n",
    "    def __init__(self, name) -> None:\n",
    "        self.name = name \n",
    "        self.bodyBuild = 'Heavy'\n",
    "    def speaking(self, words:str)-> str:\n",
    "        return \"Father's Speacking Method\"+words\n",
    "class Child(Mother,Father):\n",
    "    def __init__(self, mother_name: str, father_name: str, chil_name: str) -> None:\n",
    "        Mother.__init__(self,mother_name)\n",
    "        Father.__init__(self,father_name)\n",
    "        self.name = chil_name\n",
    "safdar : Child = Child('Gull Rukh','Syed Ghafoor Shah',\"Syed Safdar ALi Shah\")\n",
    "dir(safdar)\n"
   ]
  },
  {
   "cell_type": "code",
   "execution_count": 2,
   "metadata": {},
   "outputs": [
    {
     "name": "stdout",
     "output_type": "stream",
     "text": [
      "object height Heavy\n",
      "object eye color Blue\n",
      " Speacking Power Mother's Speacking Method Speech Working \n"
     ]
    }
   ],
   "source": [
    "print(f'object height {safdar.bodyBuild}')\n",
    "print(f'object eye color {safdar.eye_color}')\n",
    "print(f' Speacking Power {safdar.speaking(\" Speech Working \")}')"
   ]
  },
  {
   "cell_type": "markdown",
   "metadata": {},
   "source": [
    "## Overloading"
   ]
  },
  {
   "cell_type": "code",
   "execution_count": 3,
   "metadata": {},
   "outputs": [
    {
     "name": "stdout",
     "output_type": "stream",
     "text": [
      "Result of 1st is 5\n",
      "Result of 2nd is 5.699999999999999\n",
      "Result of 3rd is dfdf\n"
     ]
    }
   ],
   "source": [
    "from typing import Union, overload\n",
    "\n",
    "class Adder:\n",
    "    @overload\n",
    "    def add (self, x:int , y:int)->int:\n",
    "        ...\n",
    "    @overload\n",
    "    def add(self, x: float, y:float)-> float:\n",
    "        ...\n",
    "    @overload\n",
    "    def add(self, x : str , y : str) -> str:\n",
    "        ...\n",
    "    def add(self, x: Union[int,float,str], y: Union[int,float,str])-> Union[int,float,str]:\n",
    "        if isinstance (x,int) and isinstance(y,int):\n",
    "            return x+y\n",
    "        elif isinstance (x,float) and isinstance(y,float):\n",
    "            return x+y\n",
    "        elif isinstance (x,str) and isinstance(y,str):\n",
    "            return x+y\n",
    "        else:\n",
    "            raise TypeError(f'Invalid Argument Value')\n",
    "\n",
    "adder = Adder()\n",
    "result1 = adder.add(2,3)\n",
    "print(f'Result of 1st is {result1}')\n",
    "result1 = adder.add(2.3,3.4)\n",
    "print(f'Result of 2nd is {result1}')\n",
    "result1 = adder.add('df','df')\n",
    "print(f'Result of 3rd is {result1}')"
   ]
  },
  {
   "cell_type": "markdown",
   "metadata": {},
   "source": [
    "# Static Methods\n"
   ]
  },
  {
   "cell_type": "code",
   "execution_count": 5,
   "metadata": {},
   "outputs": [
    {
     "name": "stdout",
     "output_type": "stream",
     "text": [
      "(5, 12)\n"
     ]
    }
   ],
   "source": [
    "class arthimetic:\n",
    "    @staticmethod\n",
    "    def add(x:int,y:int)->int:\n",
    "        return(x+y)\n",
    "    @staticmethod\n",
    "    def multiplye(x:int,y:int)->int:\n",
    "        return(x*y)\n",
    "    \n",
    "val = arthimetic.add(2,3)\n",
    "val2 = arthimetic.multiplye(3,4)\n",
    "print(f'{val,val2}')\n",
    "    "
   ]
  },
  {
   "cell_type": "markdown",
   "metadata": {},
   "source": [
    "# 3very thing is Object in python"
   ]
  },
  {
   "cell_type": "code",
   "execution_count": 10,
   "metadata": {},
   "outputs": [
    {
     "name": "stdout",
     "output_type": "stream",
     "text": [
      "Human is Eating\n",
      "human1 is eating\n"
     ]
    },
    {
     "data": {
      "text/plain": [
       "['__class__',\n",
       " '__delattr__',\n",
       " '__dict__',\n",
       " '__dir__',\n",
       " '__doc__',\n",
       " '__eq__',\n",
       " '__format__',\n",
       " '__ge__',\n",
       " '__getattribute__',\n",
       " '__getstate__',\n",
       " '__gt__',\n",
       " '__hash__',\n",
       " '__init__',\n",
       " '__init_subclass__',\n",
       " '__le__',\n",
       " '__lt__',\n",
       " '__module__',\n",
       " '__ne__',\n",
       " '__new__',\n",
       " '__reduce__',\n",
       " '__reduce_ex__',\n",
       " '__repr__',\n",
       " '__setattr__',\n",
       " '__sizeof__',\n",
       " '__str__',\n",
       " '__subclasshook__',\n",
       " '__weakref__',\n",
       " 'eating']"
      ]
     },
     "execution_count": 10,
     "metadata": {},
     "output_type": "execute_result"
    }
   ],
   "source": [
    "class Human():\n",
    "    def eating(self):\n",
    "        print(f'Human is Eating')\n",
    "ob1 = Human()\n",
    "ob1.eating()\n",
    "\n",
    "class Human1(object):\n",
    "    def eating(self):\n",
    "        print(f'human1 is eating')\n",
    "\n",
    "ob2 = Human1()\n",
    "ob2.eating()\n",
    "dir(ob2)\n",
    "dir(ob1)"
   ]
  },
  {
   "cell_type": "code",
   "execution_count": 11,
   "metadata": {},
   "outputs": [
    {
     "data": {
      "text/plain": [
       "['__abs__',\n",
       " '__add__',\n",
       " '__and__',\n",
       " '__bool__',\n",
       " '__ceil__',\n",
       " '__class__',\n",
       " '__delattr__',\n",
       " '__dir__',\n",
       " '__divmod__',\n",
       " '__doc__',\n",
       " '__eq__',\n",
       " '__float__',\n",
       " '__floor__',\n",
       " '__floordiv__',\n",
       " '__format__',\n",
       " '__ge__',\n",
       " '__getattribute__',\n",
       " '__getnewargs__',\n",
       " '__getstate__',\n",
       " '__gt__',\n",
       " '__hash__',\n",
       " '__index__',\n",
       " '__init__',\n",
       " '__init_subclass__',\n",
       " '__int__',\n",
       " '__invert__',\n",
       " '__le__',\n",
       " '__lshift__',\n",
       " '__lt__',\n",
       " '__mod__',\n",
       " '__mul__',\n",
       " '__ne__',\n",
       " '__neg__',\n",
       " '__new__',\n",
       " '__or__',\n",
       " '__pos__',\n",
       " '__pow__',\n",
       " '__radd__',\n",
       " '__rand__',\n",
       " '__rdivmod__',\n",
       " '__reduce__',\n",
       " '__reduce_ex__',\n",
       " '__repr__',\n",
       " '__rfloordiv__',\n",
       " '__rlshift__',\n",
       " '__rmod__',\n",
       " '__rmul__',\n",
       " '__ror__',\n",
       " '__round__',\n",
       " '__rpow__',\n",
       " '__rrshift__',\n",
       " '__rshift__',\n",
       " '__rsub__',\n",
       " '__rtruediv__',\n",
       " '__rxor__',\n",
       " '__setattr__',\n",
       " '__sizeof__',\n",
       " '__str__',\n",
       " '__sub__',\n",
       " '__subclasshook__',\n",
       " '__truediv__',\n",
       " '__trunc__',\n",
       " '__xor__',\n",
       " 'as_integer_ratio',\n",
       " 'bit_count',\n",
       " 'bit_length',\n",
       " 'conjugate',\n",
       " 'denominator',\n",
       " 'from_bytes',\n",
       " 'imag',\n",
       " 'is_integer',\n",
       " 'numerator',\n",
       " 'real',\n",
       " 'to_bytes']"
      ]
     },
     "execution_count": 11,
     "metadata": {},
     "output_type": "execute_result"
    }
   ],
   "source": [
    "dir(int)"
   ]
  },
  {
   "cell_type": "code",
   "execution_count": null,
   "metadata": {},
   "outputs": [],
   "source": []
  }
 ],
 "metadata": {
  "kernelspec": {
   "display_name": "Python 3",
   "language": "python",
   "name": "python3"
  },
  "language_info": {
   "codemirror_mode": {
    "name": "ipython",
    "version": 3
   },
   "file_extension": ".py",
   "mimetype": "text/x-python",
   "name": "python",
   "nbconvert_exporter": "python",
   "pygments_lexer": "ipython3",
   "version": "3.12.1"
  }
 },
 "nbformat": 4,
 "nbformat_minor": 2
}
